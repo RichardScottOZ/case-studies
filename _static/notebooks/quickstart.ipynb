{
 "cells": [
  {
   "cell_type": "code",
   "execution_count": null,
   "metadata": {},
   "outputs": [],
   "source": [
    "%matplotlib inline\n",
    "%config IPython.matplotlib.backend = \"retina\"\n",
    "from matplotlib import rcParams\n",
    "rcParams[\"savefig.dpi\"] = 300\n",
    "rcParams[\"figure.dpi\"] = 300\n",
    "\n",
    "from celerite import plot_setup\n",
    "plot_setup.setup()"
   ]
  },
  {
   "cell_type": "markdown",
   "metadata": {},
   "source": [
    "# Python: First Steps\n",
    "\n",
    "For this tutorial, we're going to fit a Gaussian Process (GP) model to a simulated dataset with quasiperiodic oscillations. We're also going to leave a gap in the simulated data and we'll use the GP model to predict what we would have observed for those \"missing\" datapoints.\n",
    "\n",
    "To start, here's some code to simulate the dataset:"
   ]
  },
  {
   "cell_type": "code",
   "execution_count": null,
   "metadata": {},
   "outputs": [],
   "source": [
    "import numpy as np\n",
    "import matplotlib.pyplot as plt\n",
    "np.random.seed(42)\n",
    "\n",
    "t = np.sort(np.append(\n",
    "    np.random.uniform(0, 3.8, 57),\n",
    "    np.random.uniform(5.5, 10, 68),\n",
    "))  # The input coordinates must be sorted\n",
    "yerr = np.random.uniform(0.08, 0.22, len(t))\n",
    "y = 0.2 * (t-5) + np.sin(3*t + 0.1*(t-5)**2) + yerr * np.random.randn(len(t))\n",
    "\n",
    "true_t = np.linspace(0, 10, 5000)\n",
    "true_y = 0.2 * (true_t-5) + np.sin(3*true_t + 0.1*(true_t-5)**2)\n",
    "\n",
    "plt.plot(true_t, true_y, \"k\", lw=1.5, alpha=0.3)\n",
    "plt.errorbar(t, y, yerr=yerr, fmt=\".k\", capsize=0)\n",
    "plt.xlabel(\"x\")\n",
    "plt.ylabel(\"y\")\n",
    "plt.xlim(0, 10)\n",
    "plt.ylim(-2.5, 2.5);"
   ]
  },
  {
   "cell_type": "markdown",
   "metadata": {},
   "source": [
    "This plot shows the simulated data as black points with error bars and the true function is shown as a gray line.\n",
    "\n",
    "Now let's build the `celerite` model that we'll use to fit the data. We can see that there's some roughly periodic signal in the data as well as a longer term trend. To capture these two features, we will model this as a mixture of two stochastically driven simple harmonic oscillators with the power spectrum:\n",
    "\n",
    "$$\n",
    "S(\\omega) = \\sqrt{\\frac{2}{\\pi}}\\frac{S_1\\,{\\omega_1}^4}{(\\omega^2 - {\\omega_1}^2)^2 + 2\\,{\\omega_1}^2\\,\\omega^2}\n",
    "+ \\sqrt{\\frac{2}{\\pi}}\\frac{S_2\\,{\\omega_2}^4}{(\\omega^2 - {\\omega_2}^2)^2 + {\\omega_2}^2\\,\\omega^2/Q^2}\n",
    "$$\n",
    "\n",
    "This model has 5 free parameters ($S_1$, $\\omega_1$, $S_2$, $\\omega_2$, and $Q$) and they must all be positive. In `celerite`, this is how you would build this model, choosing more or less arbitrary initial values for the parameters."
   ]
  },
  {
   "cell_type": "code",
   "execution_count": null,
   "metadata": {},
   "outputs": [],
   "source": [
    "import celerite\n",
    "from celerite import terms\n",
    "\n",
    "# A non-periodic component\n",
    "Q = 1.0 / np.sqrt(2.0)\n",
    "w0 = 3.0\n",
    "S0 = np.var(y) / (w0 * Q)\n",
    "bounds = dict(log_S0=(-15, 15), log_Q=(-15, 15), log_omega0=(-15, 15))\n",
    "kernel = terms.SHOTerm(log_S0=np.log(S0), log_Q=np.log(Q), log_omega0=np.log(w0),\n",
    "                       bounds=bounds)\n",
    "kernel.freeze_parameter(\"log_Q\")  # We don't want to fit for \"Q\" in this term\n",
    "\n",
    "# A periodic component\n",
    "Q = 1.0\n",
    "w0 = 3.0\n",
    "S0 = np.var(y) / (w0 * Q)\n",
    "kernel += terms.SHOTerm(log_S0=np.log(S0), log_Q=np.log(Q), log_omega0=np.log(w0),\n",
    "                        bounds=bounds)"
   ]
  },
  {
   "cell_type": "markdown",
   "metadata": {},
   "source": [
    "Then we wrap this kernel in a `GP` object that can be used for computing the likelihood function."
   ]
  },
  {
   "cell_type": "code",
   "execution_count": null,
   "metadata": {},
   "outputs": [],
   "source": [
    "gp = celerite.GP(kernel, mean=np.mean(y))\n",
    "gp.compute(t, yerr)  # You always need to call compute once.\n",
    "print(\"Initial log likelihood: {0}\".format(gp.log_likelihood(y)))"
   ]
  },
  {
   "cell_type": "markdown",
   "metadata": {},
   "source": [
    "There is a modeling language built into `celerite` that will come in handy. Other tutorials will go into more detail but here are some of the features that the modeling language exposes:"
   ]
  },
  {
   "cell_type": "code",
   "execution_count": null,
   "metadata": {},
   "outputs": [],
   "source": [
    "print(\"parameter_dict:\\n{0}\\n\".format(gp.get_parameter_dict()))\n",
    "print(\"parameter_names:\\n{0}\\n\".format(gp.get_parameter_names()))\n",
    "print(\"parameter_vector:\\n{0}\\n\".format(gp.get_parameter_vector()))\n",
    "print(\"parameter_bounds:\\n{0}\\n\".format(gp.get_parameter_bounds()))"
   ]
  },
  {
   "cell_type": "markdown",
   "metadata": {},
   "source": [
    "You already saw that it is possible to freeze and thaw parameters above but here's what you would do if you wanted to freeze another parameter:"
   ]
  },
  {
   "cell_type": "code",
   "execution_count": null,
   "metadata": {},
   "outputs": [],
   "source": [
    "print(gp.get_parameter_names())\n",
    "gp.freeze_parameter(\"kernel:terms[0]:log_omega0\")\n",
    "print(gp.get_parameter_names())\n",
    "gp.thaw_parameter(\"kernel:terms[0]:log_omega0\")\n",
    "print(gp.get_parameter_names())"
   ]
  },
  {
   "cell_type": "markdown",
   "metadata": {},
   "source": [
    "Now we'll use the `L-BFGS-B` non-linear optimization routine from `scipy.optimize` to find the maximum likelihood parameters for this model."
   ]
  },
  {
   "cell_type": "code",
   "execution_count": null,
   "metadata": {},
   "outputs": [],
   "source": [
    "from scipy.optimize import minimize\n",
    "\n",
    "def neg_log_like(params, y, gp):\n",
    "    gp.set_parameter_vector(params)\n",
    "    return -gp.log_likelihood(y)\n",
    "\n",
    "initial_params = gp.get_parameter_vector()\n",
    "bounds = gp.get_parameter_bounds()\n",
    "\n",
    "r = minimize(neg_log_like, initial_params, method=\"L-BFGS-B\", bounds=bounds, args=(y, gp))\n",
    "gp.set_parameter_vector(r.x)\n",
    "print(r)"
   ]
  },
  {
   "cell_type": "markdown",
   "metadata": {},
   "source": [
    "With a small dataset like this, this optimization should have only taken a fraction of a second to converge. The maximum likelihood parameters are the following:"
   ]
  },
  {
   "cell_type": "code",
   "execution_count": null,
   "metadata": {},
   "outputs": [],
   "source": [
    "gp.get_parameter_dict()"
   ]
  },
  {
   "cell_type": "markdown",
   "metadata": {},
   "source": [
    "Finally, let's see what the model predicts for the underlying function. A GP model can predict the (Gaussian) conditional (on the observed data) distribution for new observations. Let's do that on a fine grid:"
   ]
  },
  {
   "cell_type": "code",
   "execution_count": null,
   "metadata": {},
   "outputs": [],
   "source": [
    "x = np.linspace(0, 10, 5000)\n",
    "pred_mean, pred_var = gp.predict(y, x, return_var=True)\n",
    "pred_std = np.sqrt(pred_var)"
   ]
  },
  {
   "cell_type": "markdown",
   "metadata": {},
   "source": [
    "Let's plot this prediction and compare it to the true underlying function."
   ]
  },
  {
   "cell_type": "code",
   "execution_count": null,
   "metadata": {},
   "outputs": [],
   "source": [
    "color = \"#ff7f0e\"\n",
    "plt.plot(true_t, true_y, \"k\", lw=1.5, alpha=0.3)\n",
    "plt.errorbar(t, y, yerr=yerr, fmt=\".k\", capsize=0)\n",
    "plt.plot(x, pred_mean, color=color)\n",
    "plt.fill_between(x, pred_mean+pred_std, pred_mean-pred_std, color=color, alpha=0.3,\n",
    "                 edgecolor=\"none\")\n",
    "plt.xlabel(\"x\")\n",
    "plt.ylabel(\"y\")\n",
    "plt.xlim(0, 10)\n",
    "plt.ylim(-2.5, 2.5);"
   ]
  },
  {
   "cell_type": "markdown",
   "metadata": {},
   "source": [
    "In this figure, the 1-sigma prediction is shown as an orange band and the mean prediction is indicated by a solid orange line. Comparing this to the true underlying function (shown as a gray line), we see that the prediction is consistent with the truth at all times and the the uncertainty in the region of missing data increases as expected.\n",
    "\n",
    "As the last figure, let's look at the maximum likelihood power spectrum of the model. The following figure shows the model power spectrum as a solid line and the dashed lines show the contributions from the two components."
   ]
  },
  {
   "cell_type": "code",
   "execution_count": null,
   "metadata": {},
   "outputs": [],
   "source": [
    "omega = np.exp(np.linspace(np.log(0.1), np.log(20), 5000))\n",
    "psd = gp.kernel.get_psd(omega)\n",
    "\n",
    "plt.plot(omega, psd, color=color)\n",
    "for k in gp.kernel.terms:\n",
    "    plt.plot(omega, k.get_psd(omega), \"--\", color=color)\n",
    "\n",
    "plt.yscale(\"log\")\n",
    "plt.xscale(\"log\")\n",
    "plt.xlim(omega[0], omega[-1])\n",
    "plt.xlabel(\"$\\omega$\")\n",
    "plt.ylabel(\"$S(\\omega)$\");"
   ]
  },
  {
   "cell_type": "code",
   "execution_count": null,
   "metadata": {},
   "outputs": [],
   "source": []
  }
 ],
 "metadata": {
  "kernelspec": {
   "display_name": "Python 3",
   "language": "python",
   "name": "python3"
  },
  "language_info": {
   "codemirror_mode": {
    "name": "ipython",
    "version": 3
   },
   "file_extension": ".py",
   "mimetype": "text/x-python",
   "name": "python",
   "nbconvert_exporter": "python",
   "pygments_lexer": "ipython3",
   "version": "3.5.3"
  }
 },
 "nbformat": 4,
 "nbformat_minor": 0
}
