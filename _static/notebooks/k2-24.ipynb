{
 "cells": [
  {
   "cell_type": "code",
   "execution_count": null,
   "metadata": {},
   "outputs": [],
   "source": [
    "# ref: https://radvel.readthedocs.io/en/latest/tutorials/K2-24_Fitting+MCMC.html\n",
    "# ref: https://arxiv.org/abs/1511.04497\n",
    "\n",
    "%matplotlib inline\n",
    "%config InlineBackend.figure_format = \"retina\"\n",
    "\n",
    "from matplotlib import rcParams\n",
    "rcParams[\"savefig.dpi\"] = 100\n",
    "rcParams[\"figure.dpi\"] = 100\n",
    "rcParams[\"font.size\"] = 20\n",
    "\n",
    "import corner\n",
    "import numpy as np\n",
    "import pandas as pd\n",
    "import matplotlib.pyplot as plt\n",
    "\n",
    "from astropy.stats import LombScargle\n",
    "from astropy import constants, units\n",
    "\n",
    "import pymc3 as pm\n",
    "import pymc3.distributions.transforms as tr\n",
    "\n",
    "import theano\n",
    "import theano.tensor as tt\n",
    "\n",
    "import exoplanet\n",
    "from exoplanet import distributions"
   ]
  },
  {
   "cell_type": "code",
   "execution_count": null,
   "metadata": {},
   "outputs": [],
   "source": [
    "data = pd.read_csv(\"https://raw.githubusercontent.com/California-Planet-Search/radvel/master/example_data/epic203771098.csv\", index_col=0)\n",
    "\n",
    "x_ref = np.min(data.t)\n",
    "x = np.array(data.t - x_ref)\n",
    "y = np.array(data.vel)\n",
    "yerr = np.array(data.errvel)\n",
    "\n",
    "plt.errorbar(x, y, yerr=yerr, fmt=\".k\")\n",
    "\n",
    "plt.xlabel(\"time\")\n",
    "plt.ylabel(\"radial velocity\");"
   ]
  },
  {
   "cell_type": "code",
   "execution_count": null,
   "metadata": {},
   "outputs": [],
   "source": [
    "mass_conv = (constants.M_earth / constants.M_sun).value\n",
    "rv_conv = (1 * units.R_sun / units.day).to(units.m / units.s).value"
   ]
  },
  {
   "cell_type": "code",
   "execution_count": null,
   "metadata": {},
   "outputs": [],
   "source": [
    "N_planets = 2\n",
    "\n",
    "x_grid = np.linspace(x.min(), x.max(), 1000)\n",
    "\n",
    "with pm.Model() as model:\n",
    "    \n",
    "    mstar = pm.Bound(pm.Normal, lower=0.0)(\"mstar\", mu=1.12, sd=0.05)\n",
    "    rstar = pm.Bound(pm.Normal, lower=0.0)(\"rstar\", mu=1.21, sd=0.11)\n",
    "    \n",
    "    logjitter2 = pm.Normal(\"logjitter2\", mu=np.log(0.05), sd=5.0)\n",
    "    \n",
    "    # Transit parameters from: https://arxiv.org/abs/1511.04497\n",
    "    t0_mu = np.array([2072.7948, 2082.6251]) - x_ref\n",
    "    t0_sd = np.array([0.0007, 0.0004])\n",
    "    t0 = pm.Normal(\"t0\", mu=t0_mu, sd=t0_sd, shape=N_planets)\n",
    "    \n",
    "    period_mu = np.array([20.8851, 42.3633])\n",
    "    period_sd = np.array([0.0003, 0.0006])\n",
    "    period = pm.Normal(\n",
    "        \"period\", mu=period_mu, sd=period_sd,\n",
    "        shape=N_planets)\n",
    "    \n",
    "    m_guess = np.array([23.2, 31.0])\n",
    "    logm = pm.Uniform(\n",
    "        \"logm\",\n",
    "        lower=np.log(10.0),\n",
    "        upper=np.log(50.0),\n",
    "        shape=N_planets, testval=np.log(m_guess))\n",
    "\n",
    "    ecc = pm.Beta(\"ecc\", alpha=0.867, beta=3.03, shape=N_planets,\n",
    "                  testval=np.array([0.1, 0.1]))\n",
    "    omega = distributions.Angle(\"omega\", shape=N_planets)\n",
    "    \n",
    "    v0 = pm.Normal(\"v0\", mu=0.0, sd=1.0)\n",
    "    dvdt = pm.Normal(\"dvdt\", mu=0.0, sd=0.1)\n",
    "    d2vdt2 = pm.Normal(\"d2vdt2\", mu=0.0, sd=0.01)\n",
    "    \n",
    "#     k = pm.Deterministic(\"k\", tt.exp(logk))\n",
    "    m = pm.Deterministic(\"m\", tt.exp(logm))\n",
    "    \n",
    "    # The keplerian orbit\n",
    "    orbit = exoplanet.orbits.KeplerianOrbit(\n",
    "        period=period,\n",
    "        t0=t0,\n",
    "        ecc=ecc,\n",
    "        omega=omega,\n",
    "        # Convert Earth masses to Solar masses\n",
    "        m_planet=m * (constants.M_earth / constants.M_sun).value,\n",
    "        r_star=rstar,\n",
    "        m_star=mstar,\n",
    "    )\n",
    "    \n",
    "#     vrad = tt.sum(k * orbit._get_velocity(1.0, x)[2], axis=-1)\n",
    "\n",
    "    # Convert R_sun / day to m / s\n",
    "    rv_conv = (1 * units.R_sun / units.day).to(units.m / units.s).value\n",
    "    vrad = rv_conv * tt.sum(orbit.get_star_velocity(x)[2], axis=-1)\n",
    "    \n",
    "    # background\n",
    "    bkg = v0 + dvdt * x + d2vdt2 * x**2\n",
    "    \n",
    "    pm.Normal(\"obs\", mu=vrad + bkg, sd=tt.sqrt(yerr**2 + tt.exp(logjitter2)), observed=y)\n",
    "    \n",
    "#     pm.Deterministic(\"vrad\", k * orbit._get_velocity(1.0, x_grid)[2])\n",
    "    pm.Deterministic(\"vrad\", rv_conv * orbit.get_star_velocity(x_grid)[2])\n",
    "    pm.Deterministic(\"bkg\", v0 + dvdt * x_grid + d2vdt2 * x_grid**2)\n",
    "\n",
    "    soln = pm.find_MAP(start=model.test_point)"
   ]
  },
  {
   "cell_type": "code",
   "execution_count": null,
   "metadata": {},
   "outputs": [],
   "source": [
    "with model:\n",
    "    plt.plot(x_grid, soln[\"vrad\"])\n",
    "    plt.plot(x_grid, soln[\"bkg\"])\n",
    "    plt.plot(x_grid, np.sum(soln[\"vrad\"], axis=-1) + soln[\"bkg\"])\n",
    "    plt.plot(x, y, \".\")"
   ]
  },
  {
   "cell_type": "code",
   "execution_count": null,
   "metadata": {},
   "outputs": [],
   "source": [
    "schedule = exoplanet.sampling.TuningSchedule()\n",
    "\n",
    "with model:\n",
    "    burnin = schedule.tune()"
   ]
  },
  {
   "cell_type": "code",
   "execution_count": null,
   "metadata": {},
   "outputs": [],
   "source": [
    "with model:\n",
    "    trace = schedule.sample(draws=2000)"
   ]
  },
  {
   "cell_type": "code",
   "execution_count": null,
   "metadata": {},
   "outputs": [],
   "source": [
    "samples = pm.trace_to_dataframe(trace, varnames=[\"m\", \"ecc\"])\n",
    "samples.columns = [k.replace(\"_\", \" \") for k in samples.columns]\n",
    "corner.corner(samples);"
   ]
  },
  {
   "cell_type": "code",
   "execution_count": null,
   "metadata": {},
   "outputs": [],
   "source": [
    "rvmodel = np.sum(trace[\"vrad\"], axis=-1) + trace[\"bkg\"]\n",
    "plt.plot(x_grid, np.median(rvmodel, axis=0))\n",
    "plt.errorbar(x, y, yerr=yerr, fmt=\".k\")"
   ]
  },
  {
   "cell_type": "code",
   "execution_count": null,
   "metadata": {},
   "outputs": [],
   "source": []
  }
 ],
 "metadata": {
  "kernelspec": {
   "display_name": "Python 3",
   "language": "python",
   "name": "python3"
  },
  "language_info": {
   "codemirror_mode": {
    "name": "ipython",
    "version": 3
   },
   "file_extension": ".py",
   "mimetype": "text/x-python",
   "name": "python",
   "nbconvert_exporter": "python",
   "pygments_lexer": "ipython3",
   "version": "3.6.1"
  }
 },
 "nbformat": 4,
 "nbformat_minor": 2
}
