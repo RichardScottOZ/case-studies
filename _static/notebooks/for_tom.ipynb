{
 "cells": [
  {
   "cell_type": "code",
   "execution_count": null,
   "metadata": {},
   "outputs": [],
   "source": [
    "%matplotlib inline"
   ]
  },
  {
   "cell_type": "code",
   "execution_count": null,
   "metadata": {},
   "outputs": [],
   "source": [
    "%run notebook_setup"
   ]
  },
  {
   "cell_type": "code",
   "execution_count": null,
   "metadata": {},
   "outputs": [],
   "source": [
    "import numpy as np\n",
    "from astropy.io import fits\n",
    "import matplotlib.pyplot as plt\n",
    "from scipy.signal import savgol_filter\n",
    "\n",
    "lc_url = \"https://archive.stsci.edu/missions/tess/tid/s0001/0000/0004/4142/0236/tess2018206045859-s0001-0000000441420236-0120-s_lc.fits\"\n",
    "with fits.open(lc_url) as hdus:\n",
    "    lc = hdus[1].data\n",
    "    lc_hdr = hdus[1].header\n",
    "\n",
    "texp = lc_hdr[\"FRAMETIM\"] * lc_hdr[\"NUM_FRM\"]\n",
    "texp /= 60.0 * 60.0 * 24.0\n",
    "time = lc[\"TIME\"]\n",
    "flux = lc[\"PDCSAP_FLUX\"]\n",
    "flux_err = lc[\"PDCSAP_FLUX_ERR\"]\n",
    "m = np.isfinite(time) & np.isfinite(flux) & (lc[\"QUALITY\"] == 0)\n",
    "time = time[m]\n",
    "flux = flux[m]\n",
    "flux_err = flux_err[m]\n",
    "\n",
    "# Identify outliers\n",
    "m = np.ones(len(flux), dtype=bool)\n",
    "for i in range(10):\n",
    "    y_prime = np.interp(time, time[m], flux[m])\n",
    "    smooth = savgol_filter(y_prime, 301, polyorder=3)\n",
    "    resid = flux - smooth\n",
    "    sigma = np.sqrt(np.mean(resid**2))\n",
    "    m0 = np.abs(resid) < sigma\n",
    "    if m.sum() == m0.sum():\n",
    "        m = m0\n",
    "        break\n",
    "    m = m0\n",
    "\n",
    "# Just for this demo, subsample the data\n",
    "ref_time = 0.5 * (np.min(time[m])+np.max(time[m]))\n",
    "time = np.ascontiguousarray(time[m][::10] - ref_time, dtype=np.float64)\n",
    "flux = np.ascontiguousarray(flux[m][::10], dtype=np.float64)\n",
    "flux_err = np.ascontiguousarray(flux_err[m][::10], dtype=np.float64)\n",
    "\n",
    "mu = np.median(flux)\n",
    "flux = flux / mu - 1\n",
    "flux_err /= mu\n",
    "\n",
    "x = time\n",
    "y = flux\n",
    "yerr = flux_err\n",
    "\n",
    "plt.plot(time, flux, \".k\")\n",
    "plt.plot(time, smooth[m][::10] / mu - 1);"
   ]
  },
  {
   "cell_type": "code",
   "execution_count": null,
   "metadata": {},
   "outputs": [],
   "source": [
    "import exoplanet as xo\n",
    "\n",
    "results = xo.estimators.lomb_scargle_estimator(\n",
    "    x, y, max_peaks=1, min_period=1.0, max_period=30.0,\n",
    "    samples_per_peak=50)\n",
    "\n",
    "peak = results[\"peaks\"][0]\n",
    "ls_period = peak[\"period\"]\n",
    "freq, power = results[\"periodogram\"]\n",
    "plt.plot(-np.log10(freq), power, \"k\")\n",
    "plt.axvline(np.log10(ls_period), color=\"k\", lw=4, alpha=0.3)\n",
    "plt.xlim((-np.log10(freq)).min(), (-np.log10(freq)).max())\n",
    "plt.annotate(\"period = {0:.4f} d\".format(ls_period),\n",
    "             (0, 1), xycoords=\"axes fraction\",\n",
    "             xytext=(5, -5), textcoords=\"offset points\",\n",
    "             va=\"top\", ha=\"left\", fontsize=12)\n",
    "plt.yticks([])\n",
    "plt.xlabel(\"log10(period)\")\n",
    "plt.ylabel(\"power\");"
   ]
  },
  {
   "cell_type": "code",
   "execution_count": null,
   "metadata": {},
   "outputs": [],
   "source": [
    "import pymc3 as pm\n",
    "import theano.tensor as tt\n",
    "\n",
    "def build_model(mask=None):\n",
    "    if mask is None:\n",
    "        mask = np.ones_like(x, dtype=bool)\n",
    "    with pm.Model() as model:\n",
    "\n",
    "        # The mean flux of the time series\n",
    "        mean = pm.Normal(\"mean\", mu=0.0, sd=10.0)\n",
    "\n",
    "        # A jitter term describing excess white noise\n",
    "        logs2 = pm.Normal(\"logs2\", mu=2*np.log(np.min(yerr[mask])), sd=5.0)\n",
    "\n",
    "        # A SHO term to capture long term trends\n",
    "        logS = pm.Normal(\"logS\", mu=0.0, sd=15.0, testval=np.log(np.var(y[mask])))\n",
    "        logw = pm.Normal(\"logw\", mu=np.log(2*np.pi/10.0), sd=10.0)\n",
    "        term1 = xo.gp.terms.SHOTerm(log_S0=logS, log_w0=logw, Q=1/np.sqrt(2))\n",
    "        \n",
    "        # The parameters of the RotationTerm kernel\n",
    "        logamp = pm.Normal(\"logamp\", mu=np.log(np.var(y[mask])), sd=5.0)\n",
    "        logperiod = pm.Normal(\"logperiod\", mu=np.log(ls_period), sd=5.0)\n",
    "        period = pm.Deterministic(\"period\", tt.exp(logperiod))\n",
    "        logQ0 = pm.Normal(\"logQ0\", mu=1.0, sd=10.0)\n",
    "        logdeltaQ = pm.Normal(\"logdeltaQ\", mu=2.0, sd=10.0)\n",
    "        mix = pm.Uniform(\"mix\", lower=0, upper=1.0)\n",
    "        term2 = xo.gp.terms.RotationTerm(\n",
    "            log_amp=logamp,\n",
    "            period=period,\n",
    "            log_Q0=logQ0,\n",
    "            log_deltaQ=logdeltaQ,\n",
    "            mix=mix\n",
    "        )\n",
    "\n",
    "        # Set up the Gaussian Process model\n",
    "        kernel = term1 + term2\n",
    "        gp = xo.gp.GP(kernel, x[mask], yerr[mask]**2 + tt.exp(logs2), J=6)\n",
    "\n",
    "        # Compute the Gaussian Process likelihood and add it into the\n",
    "        # the PyMC3 model as a \"potential\"\n",
    "        pm.Potential(\"loglike\", gp.log_likelihood(y[mask] - mean))\n",
    "\n",
    "        # Compute the mean model prediction for plotting purposes\n",
    "        pm.Deterministic(\"pred\", gp.predict())\n",
    "\n",
    "        # Optimize to find the maximum a posteriori parameters\n",
    "        map_soln = pm.find_MAP(start=model.test_point, vars=[mean, logs2])\n",
    "        map_soln = pm.find_MAP(start=map_soln, vars=[mean, logs2, logS, logw])\n",
    "        map_soln = pm.find_MAP(start=map_soln, vars=[mean, logs2, logamp, logQ0, logdeltaQ, mix])\n",
    "        map_soln = pm.find_MAP(start=map_soln)\n",
    "        \n",
    "    return model, map_soln\n",
    "\n",
    "model0, map_soln0 = build_model()"
   ]
  },
  {
   "cell_type": "code",
   "execution_count": null,
   "metadata": {},
   "outputs": [],
   "source": [
    "plt.plot(x, y, \"k\", label=\"data\")\n",
    "plt.plot(x, map_soln0[\"pred\"] + map_soln0[\"mean\"], color=\"C1\", label=\"model\")\n",
    "plt.xlim(x.min(), x.max())\n",
    "plt.legend(fontsize=10)\n",
    "plt.xlabel(\"time [days]\")\n",
    "plt.ylabel(\"relative flux\")\n",
    "plt.title(\"map model\");"
   ]
  },
  {
   "cell_type": "code",
   "execution_count": null,
   "metadata": {},
   "outputs": [],
   "source": [
    "mod = map_soln0[\"pred\"] + map_soln0[\"mean\"]\n",
    "resid = y - mod\n",
    "rms = np.sqrt(np.median(resid**2))\n",
    "mask = np.abs(resid) < 7 * rms\n",
    "\n",
    "plt.plot(x, resid, \"k\", label=\"data\")\n",
    "plt.plot(x[~mask], resid[~mask], \"xr\", label=\"outliers\")\n",
    "plt.axhline(0, color=\"#aaaaaa\", lw=1)\n",
    "plt.ylabel(\"residuals [ppt]\")\n",
    "plt.xlabel(\"time [days]\")\n",
    "plt.legend(fontsize=12, loc=4)\n",
    "plt.xlim(x.min(), x.max());"
   ]
  },
  {
   "cell_type": "code",
   "execution_count": null,
   "metadata": {},
   "outputs": [],
   "source": [
    "model, map_soln = build_model(mask)"
   ]
  },
  {
   "cell_type": "code",
   "execution_count": null,
   "metadata": {},
   "outputs": [],
   "source": [
    "plt.plot(x[mask], y[mask], \"k\", label=\"data\")\n",
    "plt.plot(x[mask], map_soln[\"pred\"] + map_soln[\"mean\"], color=\"C1\", label=\"model\")\n",
    "plt.xlim(x.min(), x.max())\n",
    "plt.legend(fontsize=10)\n",
    "plt.xlabel(\"time [days]\")\n",
    "plt.ylabel(\"relative flux\")\n",
    "plt.title(\"map model\");"
   ]
  },
  {
   "cell_type": "code",
   "execution_count": null,
   "metadata": {},
   "outputs": [],
   "source": [
    "sampler = xo.PyMC3Sampler()\n",
    "with model:\n",
    "    sampler.tune(tune=2000, start=map_soln, step_kwargs=dict(target_accept=0.9))\n",
    "    trace = sampler.sample(draws=2000)"
   ]
  },
  {
   "cell_type": "code",
   "execution_count": null,
   "metadata": {},
   "outputs": [],
   "source": [
    "period_samples = trace[\"period\"]\n",
    "plt.hist(period_samples, 35, histtype=\"step\", color=\"k\")\n",
    "plt.yticks([])\n",
    "plt.xlabel(\"rotation period [days]\")\n",
    "plt.ylabel(\"posterior density\");"
   ]
  },
  {
   "cell_type": "code",
   "execution_count": null,
   "metadata": {},
   "outputs": [],
   "source": []
  }
 ],
 "metadata": {
  "kernelspec": {
   "display_name": "Python 3",
   "language": "python",
   "name": "python3"
  },
  "language_info": {
   "codemirror_mode": {
    "name": "ipython",
    "version": 3
   },
   "file_extension": ".py",
   "mimetype": "text/x-python",
   "name": "python",
   "nbconvert_exporter": "python",
   "pygments_lexer": "ipython3",
   "version": "3.7.0"
  }
 },
 "nbformat": 4,
 "nbformat_minor": 2
}
