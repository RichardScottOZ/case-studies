{
 "cells": [
  {
   "cell_type": "code",
   "execution_count": null,
   "metadata": {},
   "outputs": [],
   "source": [
    "%run notebook_setup"
   ]
  },
  {
   "cell_type": "markdown",
   "metadata": {},
   "source": [
    "# Scalable Gaussian processes in PyMC3\n",
    "\n",
    "PyMC3 has support for [Gaussian Processes (GPs)](https://docs.pymc.io/gp.html), but this implementation is too slow for many applications in time series astrophysics.\n",
    "So *exoplanet* comes with an implementation of scalable GPs powered by [celerite](https://celerite.readthedocs.io/).\n",
    "More information about the algorithm can be found in the [celerite docs](https://celerite.readthedocs.io/) and in the papers ([Paper 1](https://arxiv.org/abs/1703.09710) and [Paper 2](https://arxiv.org/abs/1801.10156)), but this tutorial will give a hands on demo of how to use celerite in PyMC3."
   ]
  },
  {
   "cell_type": "raw",
   "metadata": {},
   "source": [
    ".. note:: For the best results, we generally recommend the use of the\n",
    "    :class:`exoplanet.gp.terms.SHOTerm`,\n",
    "    :class:`exoplanet.gp.terms.Matern32Term`, and\n",
    "    :class:`exoplanet.gp.terms.RotationTerm` \"terms\" because the other\n",
    "    terms tend to have unphysical behavior at high frequency."
   ]
  },
  {
   "cell_type": "markdown",
   "metadata": {},
   "source": [
    "## A simple demo\n",
    "\n",
    "Let's start with the quickstart demo from the [celerite docs](https://celerite.readthedocs.io/en/stable/tutorials/first/).\n",
    "We'll fit the following simulated dataset using the sum of two :class:`exoplanet.gp.terms.SHOTerm` objects."
   ]
  },
  {
   "cell_type": "code",
   "execution_count": null,
   "metadata": {},
   "outputs": [],
   "source": [
    "import numpy as np\n",
    "import matplotlib.pyplot as plt\n",
    "np.random.seed(42)\n",
    "\n",
    "t = np.sort(np.append(\n",
    "    np.random.uniform(0, 3.8, 57),\n",
    "    np.random.uniform(5.5, 10, 68),\n",
    "))  # The input coordinates must be sorted\n",
    "yerr = np.random.uniform(0.08, 0.22, len(t))\n",
    "y = 0.2 * (t-5) + np.sin(3*t + 0.1*(t-5)**2) + yerr * np.random.randn(len(t))\n",
    "\n",
    "true_t = np.linspace(0, 10, 5000)\n",
    "true_y = 0.2 * (true_t-5) + np.sin(3*true_t + 0.1*(true_t-5)**2)\n",
    "\n",
    "plt.plot(true_t, true_y, \"k\", lw=1.5, alpha=0.3)\n",
    "plt.errorbar(t, y, yerr=yerr, fmt=\".k\", capsize=0)\n",
    "plt.xlabel(\"t\")\n",
    "plt.ylabel(\"y\")\n",
    "plt.xlim(0, 10)\n",
    "plt.ylim(-2.5, 2.5);"
   ]
  },
  {
   "cell_type": "code",
   "execution_count": null,
   "metadata": {},
   "outputs": [],
   "source": [
    "import pymc3 as pm\n",
    "import theano.tensor as tt\n",
    "from exoplanet.gp import terms, GP\n",
    "from exoplanet.sampling import TuningSchedule\n",
    "\n",
    "schedule = TuningSchedule()\n",
    "\n",
    "with pm.Model() as model:\n",
    "    \n",
    "    logS0_1 = pm.Normal(\"logS01\", mu=0.0, sd=15.0, testval=np.log(np.var(y)))\n",
    "    logw0_1 = pm.Normal(\"logw01\", mu=0.0, sd=15.0, testval=np.log(3.0))\n",
    "    logS0_2 = pm.Normal(\"logS02\", mu=0.0, sd=15.0, testval=np.log(np.var(y)))\n",
    "    logw0_2 = pm.Normal(\"logw02\", mu=0.0, sd=15.0, testval=np.log(3.0))\n",
    "    logQ_2 = pm.Normal(\"logQ2\", mu=0.0, sd=15.0, testval=0)\n",
    "    \n",
    "    # Set up the kernel an GP\n",
    "    kernel = terms.SHOTerm(log_S0=logS0_1, log_w0=logw0_1, Q=1.0/np.sqrt(2))\n",
    "    kernel += terms.SHOTerm(log_S0=logS0_2, log_w0=logw0_2, log_Q=logQ_2)\n",
    "    gp = GP(kernel, t, yerr**2)\n",
    "    \n",
    "    # Add a custom \"potential\" (log probability function) with the GP likelihood\n",
    "    pm.Potential(\"gp\", gp.log_likelihood(y))\n",
    "    \n",
    "    # Run the sampler\n",
    "    map_soln = pm.find_MAP(start=model.test_point)\n",
    "    burnin = schedule.tune(tune=1000, chains=2, start=map_soln)\n",
    "    trace = schedule.sample(draws=2000, chains=2)"
   ]
  },
  {
   "cell_type": "code",
   "execution_count": null,
   "metadata": {},
   "outputs": [],
   "source": [
    "import corner\n",
    "samples = pm.trace_to_dataframe(trace)\n",
    "corner.corner(samples);"
   ]
  },
  {
   "cell_type": "code",
   "execution_count": null,
   "metadata": {},
   "outputs": [],
   "source": [
    "from exoplanet.utils import eval_in_model\n",
    "\n",
    "plt.plot(true_t, true_y, \"k\", lw=1.5, alpha=0.3)\n",
    "plt.errorbar(t, y, yerr=yerr, fmt=\".k\", capsize=0)\n",
    "\n",
    "with model:\n",
    "    pred = gp.predict(true_t)\n",
    "    for i in range(50):\n",
    "        chain_idx = np.random.randint(len(trace.chains))\n",
    "        sample_idx = np.random.randint(len(trace))\n",
    "        chain = trace._straces[chain_idx]\n",
    "        sample = chain[sample_idx]\n",
    "        plt.plot(true_t, eval_in_model(pred, sample), color=\"C1\", alpha=0.1)"
   ]
  },
  {
   "cell_type": "code",
   "execution_count": null,
   "metadata": {},
   "outputs": [],
   "source": [
    "pm.summary(trace)"
   ]
  },
  {
   "cell_type": "code",
   "execution_count": null,
   "metadata": {},
   "outputs": [],
   "source": [
    "from astropy.io import fits\n",
    "\n",
    "url = \"https://archive.stsci.edu/missions/kepler/lightcurves/0058/005809890/kplr005809890-2012179063303_llc.fits\"\n",
    "with fits.open(url) as hdus:\n",
    "    data = hdus[1].data\n",
    "    \n",
    "x = data[\"TIME\"]\n",
    "y = data[\"PDCSAP_FLUX\"]\n",
    "yerr = data[\"PDCSAP_FLUX_ERR\"]\n",
    "m = (data[\"SAP_QUALITY\"] == 0) & np.isfinite(x) & np.isfinite(y)\n",
    "\n",
    "x = np.ascontiguousarray(x[m], dtype=np.float64)\n",
    "y = np.ascontiguousarray(y[m], dtype=np.float64)\n",
    "yerr = np.ascontiguousarray(yerr[m], dtype=np.float64)\n",
    "mu = np.mean(y)\n",
    "y = (y / mu - 1) * 1e3\n",
    "yerr = yerr * 1e3 / mu\n",
    "\n",
    "plt.plot(x, y, \"k\");"
   ]
  },
  {
   "cell_type": "code",
   "execution_count": null,
   "metadata": {},
   "outputs": [],
   "source": [
    "schedule = TuningSchedule()\n",
    "\n",
    "with pm.Model() as model:\n",
    "    \n",
    "    logs2 = pm.Normal(\"logs2\", mu=0.0, sd=15.0, testval=np.log(np.median(yerr**2)))\n",
    "    logamp = pm.Normal(\"logamp\", mu=0.0, sd=15.0, testval=np.log(np.var(y)))\n",
    "    logQ0 = pm.Normal(\"logQ0\", mu=0.0, sd=5.0, testval=3.0)\n",
    "    logdeltaQ = pm.Normal(\"logdeltaQ\", mu=0.0, sd=5.0)\n",
    "    logperiod = pm.Normal(\"logperiod\", mu=np.log(35.0), sd=1.0)\n",
    "    mix = pm.Uniform(\"mix\", lower=0, upper=1, testval=0.5)\n",
    "    \n",
    "    kernel = terms.RotationTerm(\n",
    "        log_amp=logamp,\n",
    "        log_period=logperiod,\n",
    "        log_Q0=logQ0,\n",
    "        log_deltaQ=logdeltaQ,\n",
    "        mix=mix\n",
    "    )\n",
    "    \n",
    "    gp = GP(kernel, x, yerr**2 + tt.exp(logs2), J=4)\n",
    "    \n",
    "    # Add a custom \"potential\" (log probability function) with the GP likelihood\n",
    "    pm.Potential(\"gp\", gp.log_likelihood(y))\n",
    "    pm.Deterministic(\"pred\", gp.predict())\n",
    "    \n",
    "    # Run the sampler\n",
    "    map_soln = pm.find_MAP(start=model.test_point)\n",
    "    burnin = schedule.tune(tune=1000, chains=2, start=map_soln)\n",
    "    trace = schedule.sample(draws=2000, chains=2)"
   ]
  },
  {
   "cell_type": "code",
   "execution_count": null,
   "metadata": {},
   "outputs": [],
   "source": [
    "samples = pm.trace_to_dataframe(trace, varnames=[\"mix\", \"logperiod\", \"logQ0\", \"logdeltaQ\", \"logamp\", \"logs2\"])\n",
    "corner.corner(samples);"
   ]
  },
  {
   "cell_type": "code",
   "execution_count": null,
   "metadata": {},
   "outputs": [],
   "source": [
    "plt.hist(np.exp(trace[\"logperiod\"]), np.linspace(20, 40, 25), color=\"k\", histtype=\"step\")\n",
    "plt.xlabel(\"period [days]\")\n",
    "plt.yticks([]);"
   ]
  },
  {
   "cell_type": "code",
   "execution_count": null,
   "metadata": {},
   "outputs": [],
   "source": [
    "pm.summary(trace, varnames=[\"mix\", \"logperiod\", \"logQ0\", \"logdeltaQ\", \"logamp\", \"logs2\"])"
   ]
  },
  {
   "cell_type": "code",
   "execution_count": null,
   "metadata": {},
   "outputs": [],
   "source": [
    "plt.plot(x, y, \".k\")\n",
    "plt.plot(x, np.median(trace[\"pred\"], axis=0))"
   ]
  },
  {
   "cell_type": "code",
   "execution_count": null,
   "metadata": {},
   "outputs": [],
   "source": [
    "with model:\n",
    "    K = kernel.value(x - x[0])\n",
    "    plt.plot(x - x[0], eval_in_model(K, map_soln))"
   ]
  },
  {
   "cell_type": "code",
   "execution_count": null,
   "metadata": {},
   "outputs": [],
   "source": []
  },
  {
   "cell_type": "code",
   "execution_count": null,
   "metadata": {},
   "outputs": [],
   "source": []
  },
  {
   "cell_type": "code",
   "execution_count": null,
   "metadata": {},
   "outputs": [],
   "source": []
  }
 ],
 "metadata": {
  "kernelspec": {
   "display_name": "Python 3",
   "language": "python",
   "name": "python3"
  },
  "language_info": {
   "codemirror_mode": {
    "name": "ipython",
    "version": 3
   },
   "file_extension": ".py",
   "mimetype": "text/x-python",
   "name": "python",
   "nbconvert_exporter": "python",
   "pygments_lexer": "ipython3",
   "version": "3.6.1"
  }
 },
 "nbformat": 4,
 "nbformat_minor": 2
}
