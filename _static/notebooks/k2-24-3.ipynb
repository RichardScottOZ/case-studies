{
 "cells": [
  {
   "cell_type": "code",
   "execution_count": null,
   "metadata": {},
   "outputs": [],
   "source": [
    "# ref: https://radvel.readthedocs.io/en/latest/tutorials/K2-24_Fitting+MCMC.html\n",
    "# ref: https://arxiv.org/abs/1511.04497\n",
    "\n",
    "%matplotlib inline\n",
    "%config InlineBackend.figure_format = \"retina\"\n",
    "\n",
    "from matplotlib import rcParams\n",
    "rcParams[\"savefig.dpi\"] = 100\n",
    "rcParams[\"figure.dpi\"] = 100\n",
    "rcParams[\"font.size\"] = 16\n",
    "rcParams[\"text.usetex\"] = False\n",
    "rcParams[\"font.family\"] = [\"sans-serif\"]\n",
    "rcParams[\"font.sans-serif\"] = [\"cmss10\"]\n",
    "rcParams[\"axes.unicode_minus\"] = False\n",
    "\n",
    "import corner\n",
    "import numpy as np\n",
    "import pandas as pd\n",
    "import matplotlib.pyplot as plt\n",
    "from scipy.signal import savgol_filter\n",
    "\n",
    "from astropy.io import fits\n",
    "from astropy.stats import BoxLeastSquares, LombScargle\n",
    "from astropy import constants, units\n",
    "\n",
    "import pymc3 as pm\n",
    "import pymc3.distributions.transforms as tr\n",
    "\n",
    "import theano\n",
    "import theano.tensor as tt\n",
    "\n",
    "import exoplanet\n",
    "from exoplanet import distributions\n",
    "from exoplanet.gp import terms, GP"
   ]
  },
  {
   "cell_type": "code",
   "execution_count": null,
   "metadata": {},
   "outputs": [],
   "source": [
    "lc_url = \"https://archive.stsci.edu/hlsps/everest/v2/c02/203700000/71098/hlsp_everest_k2_llc_203771098-c02_kepler_v2.0_lc.fits\"\n",
    "with fits.open(lc_url) as hdus:\n",
    "    lc = hdus[1].data\n",
    "    lc_hdr = hdus[1].header\n",
    "    \n",
    "texp = lc_hdr[\"FRAMETIM\"] * lc_hdr[\"NUM_FRM\"]\n",
    "texp /= 60.0 * 60.0 * 24.0\n",
    "\n",
    "m = (np.arange(len(lc)) > 100) & np.isfinite(lc[\"FLUX\"]) & np.isfinite(lc[\"TIME\"])\n",
    "\n",
    "bad_bits=[1, 2, 3, 4, 5, 6, 7, 8, 9, 11, 12, 13, 14, 16, 17]\n",
    "qual = lc[\"QUALITY\"]\n",
    "for b in bad_bits:\n",
    "    m &= qual & 2 ** (b - 1) == 0\n",
    "\n",
    "x = lc[\"TIME\"][m]\n",
    "y = lc[\"FLUX\"][m]\n",
    "mu = np.median(y)\n",
    "y = (y / mu - 1) * 1e3\n",
    "\n",
    "smooth = savgol_filter(y, 501, polyorder=5)\n",
    "resid = y - smooth\n",
    "sigma = np.sqrt(np.mean(resid**2))\n",
    "m = resid < 3 * sigma\n",
    "\n",
    "plt.plot(x, y, \"k\", label=\"data\")\n",
    "plt.plot(x, smooth, label=\"smoothed\")\n",
    "plt.plot(x[~m], y[~m], \"xr\", label=\"outliers\")\n",
    "plt.legend(fontsize=12)\n",
    "plt.xlabel(\"time\")\n",
    "plt.ylabel(\"flux\")\n",
    "\n",
    "x_ref = np.min(x[m])\n",
    "x = np.ascontiguousarray(x[m], dtype=np.float64)\n",
    "x -= x_ref\n",
    "y = np.ascontiguousarray(y[m], dtype=np.float64)\n",
    "smooth = savgol_filter(y, 501, polyorder=5)"
   ]
  },
  {
   "cell_type": "code",
   "execution_count": null,
   "metadata": {},
   "outputs": [],
   "source": [
    "data = pd.read_csv(\"https://raw.githubusercontent.com/California-Planet-Search/radvel/master/example_data/epic203771098.csv\", index_col=0)\n",
    "\n",
    "rv_x = np.array(data.t - x_ref)\n",
    "rv_y = np.array(data.vel)\n",
    "rv_yerr = np.array(data.errvel)\n",
    "\n",
    "plt.errorbar(rv_x, rv_y, yerr=rv_yerr, fmt=\".k\")\n",
    "\n",
    "plt.xlabel(\"time\")\n",
    "plt.ylabel(\"radial velocity\");"
   ]
  },
  {
   "cell_type": "code",
   "execution_count": null,
   "metadata": {},
   "outputs": [],
   "source": [
    "m = np.zeros(len(x), dtype=bool)\n",
    "period_grid = np.exp(np.linspace(np.log(10), np.log(50), 50000))\n",
    "bls_results = []\n",
    "periods = []\n",
    "t0s = []\n",
    "depths = []\n",
    "\n",
    "for i in range(2):\n",
    "    bls = BoxLeastSquares(x[~m], y[~m] - smooth[~m])\n",
    "    bls_power = bls.power(period_grid, 0.1, oversample=20)\n",
    "    bls_results.append(bls_power)\n",
    "    \n",
    "    index = np.argmax(bls_power.power)\n",
    "    periods.append(bls_power.period[index])\n",
    "    t0s.append(bls_power.transit_time[index])\n",
    "    depths.append(bls_power.depth[index])\n",
    "    \n",
    "    m |= bls.transit_mask(x, periods[-1], 0.5, t0s[-1])\n",
    "    \n",
    "fig, axes = plt.subplots(len(bls_results), 1, figsize=(10, 6), sharex=True)\n",
    "\n",
    "for i in range(len(bls_results)):\n",
    "    ax = axes[i]\n",
    "    ax.axvline(np.log10(periods[i]), color=\"C1\", lw=5, alpha=0.8)\n",
    "    ax.plot(np.log10(bls_results[i].period), bls_results[i].power, \"k\")\n",
    "    ax.set_ylabel(\"bls power\")\n",
    "    ax.set_yticks([])\n",
    "    \n",
    "ax = axes[-1]\n",
    "ax.set_xlim(np.log10(period_grid.min()), np.log10(period_grid.max()))\n",
    "ax.set_xlabel(\"$\\log_{10}$ period\");"
   ]
  },
  {
   "cell_type": "code",
   "execution_count": null,
   "metadata": {},
   "outputs": [],
   "source": [
    "fig, axes = plt.subplots(len(bls_results), 1, figsize=(10, 6), sharex=True)\n",
    "\n",
    "for i in range(len(bls_results)):\n",
    "    ax = axes[i]\n",
    "    p = periods[i]\n",
    "    x_fold = (x - t0s[i] + 0.5*p) % p - 0.5*p    \n",
    "    ax.plot(x_fold, y - smooth, \".k\")\n",
    "    \n",
    "    bins = np.linspace(-0.4, 0.4, 20)\n",
    "    denom, _ = np.histogram(x_fold, bins)\n",
    "    num, _ = np.histogram(x_fold, bins, weights=y - smooth)\n",
    "    denom[num == 0] = 1.0\n",
    "    ax.plot(0.5*(bins[1:] + bins[:-1]), num / denom, color=\"C1\")\n",
    "    \n",
    "ax = axes[-1]\n",
    "ax.set_xlim(-0.4, 0.4)\n",
    "ax.set_xlabel(\"time since transit\");"
   ]
  },
  {
   "cell_type": "code",
   "execution_count": null,
   "metadata": {},
   "outputs": [],
   "source": [
    "msini = exoplanet.estimators.estimate_minimum_mass(periods, rv_x, rv_y, rv_yerr, t0s=t0s).to(units.M_earth)\n",
    "print(msini)"
   ]
  },
  {
   "cell_type": "code",
   "execution_count": null,
   "metadata": {},
   "outputs": [],
   "source": [
    "N_planets = len(periods)\n",
    "\n",
    "rv_x_grid = np.linspace(rv_x.min(), rv_x.max(), 1000)\n",
    "\n",
    "def build_model(mask=None):\n",
    "    if mask is None:\n",
    "        mask = np.ones(len(x), dtype=bool)\n",
    "    with pm.Model() as model:\n",
    "\n",
    "        # Stellar properties\n",
    "        mean = pm.Normal(\"mean\", mu=0.0, sd=1.0)\n",
    "        u = distributions.Triangle(\"u\", shape=2)\n",
    "        mstar = pm.Bound(pm.Normal, lower=0.0)(\"mstar\", mu=1.12, sd=0.05)\n",
    "        rstar = pm.Bound(pm.Normal, lower=0.0)(\"rstar\", mu=1.21, sd=0.11)\n",
    "\n",
    "        t0 = pm.Normal(\"t0\", mu=t0s, sd=0.1, shape=N_planets)\n",
    "        logperiod = pm.Normal(\"logperiod\", mu=np.log(periods), sd=1e-4, shape=N_planets)\n",
    "        period = pm.Deterministic(\"period\", tt.exp(logperiod))\n",
    "        \n",
    "        logm = pm.Uniform(\n",
    "            \"logm\",\n",
    "            lower=np.log(10.0),\n",
    "            upper=np.log(50.0),\n",
    "            shape=N_planets, testval=np.log(msini.value))\n",
    "        m = pm.Deterministic(\"m\", tt.exp(logm))\n",
    "\n",
    "        # Radius/impact parameter joint distribution\n",
    "        rb_test = 0.5 + np.zeros((2, N_planets))\n",
    "        rb_test[0, :] = np.sqrt(1e-3)*np.sqrt(depths)\n",
    "        rb = distributions.RadiusImpactParameter(\n",
    "            \"rb\", min_radius=0.01, max_radius=0.1,\n",
    "            shape=(2, N_planets), testval=rb_test)\n",
    "        ror = pm.Deterministic(\"ror\", rb[0])\n",
    "        r = pm.Deterministic(\"r\", ror * rstar)\n",
    "        b = pm.Deterministic(\"b\", rb[1])\n",
    "\n",
    "        # Log-uniform prior on r\n",
    "        pm.Potential(\"logrprior\", -tt.log(r))\n",
    "\n",
    "        ecc = pm.Beta(\"ecc\", alpha=0.867, beta=3.03, shape=N_planets,\n",
    "                      testval=np.array([0.1, 0.1]))\n",
    "        omega = distributions.Angle(\"omega\", shape=N_planets)\n",
    "        \n",
    "        logjitter2 = pm.Normal(\"logjitter2\", mu=np.log(0.05), sd=5.0)\n",
    "        v0 = pm.Normal(\"v0\", mu=0.0, sd=1.0)\n",
    "        dvdt = pm.Normal(\"dvdt\", mu=0.0, sd=0.1)\n",
    "        d2vdt2 = pm.Normal(\"d2vdt2\", mu=0.0, sd=0.01)\n",
    "\n",
    "        # Set up the orbit\n",
    "        orbit = exoplanet.orbits.KeplerianOrbit(\n",
    "            period=period,\n",
    "            t0=t0,\n",
    "            b=b,\n",
    "            ecc=ecc,\n",
    "            omega=omega,\n",
    "            m_planet=m,\n",
    "            m_planet_units=msini.unit,\n",
    "            r_star=rstar,\n",
    "            m_star=mstar,\n",
    "        )\n",
    "        pm.Deterministic(\"incl\", orbit.incl)\n",
    "        pm.Deterministic(\"a\", orbit.a)\n",
    "\n",
    "        lc = exoplanet.StarryLightCurve(u, r_star=rstar)\n",
    "        transit = lc.get_light_curve(r, orbit, x[mask], texp=texp, oversample=5, order=2) * 1e3\n",
    "#         transit = tt.zeros(len(y))\n",
    "#         transit = tt.set_subtensor(transit[mask_near], tt.sum(transits, axis=-1) * 1e3)\n",
    "        pm.Deterministic(\"transit\", transit)\n",
    "\n",
    "        # Likelihood\n",
    "        logs2 = pm.Normal(\"logs2\", mu=-5.0, sd=5.0)\n",
    "        logw0 = pm.Normal(\"logw0\", mu=0.0, sd=5.0)\n",
    "        logQ = pm.Normal(\"logQ\", mu=1.0, sd=5.0)\n",
    "        delta = pm.Normal(\"delta\", mu=0.0, sd=10.0)\n",
    "        logS0 = pm.Deterministic(\"logS0\", delta - logw0 - logQ)\n",
    "\n",
    "        kernel = terms.SHOTerm(S0=tt.exp(logS0), w0=tt.exp(logw0), Q=tt.exp(logQ))\n",
    "\n",
    "        gp = GP(kernel, x[mask], tt.exp(logs2) + np.zeros_like(x[mask]), J=2)\n",
    "\n",
    "        resid = y[mask] - transit - mean\n",
    "        pm.Potential(\"obs\", gp.log_likelihood(resid))\n",
    "\n",
    "        gp_pred = gp.predict()\n",
    "        pm.Deterministic(\"gp\", mean + gp_pred)\n",
    "        pm.Deterministic(\"resid\", resid - gp_pred)\n",
    "        \n",
    "        # RV model\n",
    "        # Convert R_sun / day to m / s\n",
    "        rv_x_mid = 0.5 * (rv_x.max() + rv_x.min())\n",
    "        rv_dx = rv_x - rv_x_mid\n",
    "        rv_dx_grid = rv_x_grid - rv_x_mid\n",
    "        rv_conv = (1 * units.R_sun / units.day).to(units.m / units.s).value\n",
    "        vrad = rv_conv * tt.sum(orbit.get_star_velocity(rv_x)[2], axis=-1)\n",
    "        bkg = v0 + dvdt * rv_dx + d2vdt2 * rv_dx**2\n",
    "        pm.Normal(\"rv_obs\", mu=vrad + bkg, sd=tt.sqrt(rv_yerr**2 + tt.exp(logjitter2)), observed=rv_y)\n",
    "        pm.Deterministic(\"vrad\", rv_conv * orbit.get_star_velocity(rv_x_grid)[2])\n",
    "        pm.Deterministic(\"bkg\", v0 + dvdt * rv_dx_grid + d2vdt2 * rv_dx_grid**2)\n",
    "\n",
    "        soln = pm.find_MAP(start=model.test_point, vars=[logs2, delta, logw0, logQ, mean])\n",
    "        soln = pm.find_MAP(start=soln, vars=[logperiod, t0])\n",
    "        soln = pm.find_MAP(start=soln)\n",
    "        \n",
    "    return model, soln"
   ]
  },
  {
   "cell_type": "code",
   "execution_count": null,
   "metadata": {},
   "outputs": [],
   "source": [
    "model0, soln0 = build_model()"
   ]
  },
  {
   "cell_type": "code",
   "execution_count": null,
   "metadata": {},
   "outputs": [],
   "source": [
    "# Sigma clipping\n",
    "resid = soln0[\"resid\"]\n",
    "sigma = np.sqrt(np.mean(resid**2))\n",
    "mask = np.abs(resid) < 4 * sigma\n",
    "\n",
    "plt.plot(x, resid)\n",
    "plt.plot(x[~mask], resid[~mask], \"xr\")"
   ]
  },
  {
   "cell_type": "code",
   "execution_count": null,
   "metadata": {},
   "outputs": [],
   "source": [
    "model, soln = build_model(mask)"
   ]
  },
  {
   "cell_type": "code",
   "execution_count": null,
   "metadata": {},
   "outputs": [],
   "source": [
    "fig, axes = plt.subplots(3, 1, figsize=(10, 10), sharex=True)\n",
    "\n",
    "ax = axes[0]\n",
    "ax.plot(x[mask], y[mask], \".k\")\n",
    "ax.plot(x[mask], soln[\"gp\"], color=\"C1\", alpha=0.8, label=\"gaussian process\")\n",
    "ax.set_ylabel(\"raw data\")\n",
    "ax.legend()\n",
    "\n",
    "ax = axes[1]\n",
    "ax.plot(x[mask], y[mask] - soln[\"gp\"], \".k\")\n",
    "ax.plot(x[mask], soln[\"transit\"], color=\"C1\", alpha=0.8, label=\"transit\")\n",
    "ax.set_ylabel(\"de-trended data\")\n",
    "ax.legend()\n",
    "\n",
    "ax = axes[2]\n",
    "ax.plot(x[mask], soln[\"resid\"], \".k\")\n",
    "ax.set_ylabel(\"residuals\")\n",
    "ax.set_xlabel(\"time\")\n",
    "ax.set_xlim(x[mask].min(), x[mask].max());"
   ]
  },
  {
   "cell_type": "code",
   "execution_count": null,
   "metadata": {},
   "outputs": [],
   "source": [
    "plt.plot(rv_x_grid, soln[\"vrad\"], color=\"k\", lw=2, alpha=0.5)\n",
    "plt.plot(rv_x_grid, soln[\"bkg\"], \"--\", color=\"k\", lw=2, alpha=0.5)\n",
    "plt.plot(rv_x_grid, np.sum(soln[\"vrad\"], axis=-1) + soln[\"bkg\"], color=\"C1\", lw=2)\n",
    "plt.errorbar(rv_x, rv_y, yerr=rv_yerr, fmt=\".k\")\n",
    "plt.xlabel(\"time\")\n",
    "plt.ylabel(\"radial velocity\")"
   ]
  },
  {
   "cell_type": "code",
   "execution_count": null,
   "metadata": {},
   "outputs": [],
   "source": [
    "schedule = exoplanet.sampling.TuningSchedule(start=50, window=50)\n",
    "\n",
    "with model:\n",
    "    burnin = schedule.tune(tune=2000, start=soln, step_kwargs=dict(regular_window=0))"
   ]
  },
  {
   "cell_type": "code",
   "execution_count": null,
   "metadata": {},
   "outputs": [],
   "source": [
    "plt.plot(burnin[\"ecc\"])"
   ]
  },
  {
   "cell_type": "code",
   "execution_count": null,
   "metadata": {},
   "outputs": [],
   "source": [
    "samples = pm.trace_to_dataframe(burnin, varnames=[\"u\", \"rstar\", \"mstar\", \"b\"])\n",
    "samples.columns = [k.replace(\"_\", \" \") for k in samples.columns]\n",
    "corner.corner(samples);"
   ]
  },
  {
   "cell_type": "code",
   "execution_count": null,
   "metadata": {},
   "outputs": [],
   "source": [
    "samples = pm.trace_to_dataframe(burnin, varnames=[\"t0\", \"period\", \"r\", \"b\", \"ecc\", \"omega\"])\n",
    "samples.columns = [k.replace(\"_\", \" \") for k in samples.columns]\n",
    "corner.corner(samples);"
   ]
  },
  {
   "cell_type": "code",
   "execution_count": null,
   "metadata": {},
   "outputs": [],
   "source": [
    "samples = pm.trace_to_dataframe(burnin, varnames=[\"mean\", \"logs2\", \"logS0\", \"logw0\", \"logQ\"])\n",
    "samples.columns = [k.replace(\"_\", \" \") for k in samples.columns]\n",
    "corner.corner(samples);"
   ]
  },
  {
   "cell_type": "code",
   "execution_count": null,
   "metadata": {},
   "outputs": [],
   "source": [
    "with model:\n",
    "    trace = schedule.sample(draws=2000)"
   ]
  },
  {
   "cell_type": "code",
   "execution_count": null,
   "metadata": {},
   "outputs": [],
   "source": [
    "plt.plot(trace[\"rstar\"])"
   ]
  },
  {
   "cell_type": "code",
   "execution_count": null,
   "metadata": {},
   "outputs": [],
   "source": [
    "samples = pm.trace_to_dataframe(trace, varnames=[\"u\", \"rstar\", \"mstar\"])\n",
    "samples.columns = [k.replace(\"_\", \" \") for k in samples.columns]\n",
    "corner.corner(samples);"
   ]
  },
  {
   "cell_type": "code",
   "execution_count": null,
   "metadata": {},
   "outputs": [],
   "source": [
    "samples = pm.trace_to_dataframe(trace, varnames=[\"t0\", \"period\", \"r\", \"m\", \"b\", \"ecc\", \"omega\"])\n",
    "samples.columns = [k.replace(\"_\", \" \") for k in samples.columns]\n",
    "corner.corner(samples);"
   ]
  },
  {
   "cell_type": "code",
   "execution_count": null,
   "metadata": {},
   "outputs": [],
   "source": [
    "samples = pm.trace_to_dataframe(trace, varnames=[\"mean\", \"logs2\", \"logS0\", \"logw0\", \"logQ\"])\n",
    "samples.columns = [k.replace(\"_\", \" \") for k in samples.columns]\n",
    "corner.corner(samples);"
   ]
  },
  {
   "cell_type": "code",
   "execution_count": null,
   "metadata": {},
   "outputs": [],
   "source": [
    "fig, axes = plt.subplots(3, 1, figsize=(10, 10), sharex=True)\n",
    "\n",
    "gp_mod = np.median(trace[\"gp\"], axis=0)\n",
    "transit_mod = np.median(trace[\"transit\"], axis=0)\n",
    "\n",
    "ax = axes[0]\n",
    "ax.plot(x[mask], y[mask], \".k\")\n",
    "ax.plot(x[mask], gp_mod, color=\"C1\", alpha=0.8, label=\"gaussian process\")\n",
    "ax.set_ylabel(\"raw data\")\n",
    "ax.legend()\n",
    "\n",
    "ax = axes[1]\n",
    "ax.plot(x[mask], y[mask] - gp_mod, \".k\")\n",
    "ax.plot(x[mask], transit_mod, color=\"C1\", alpha=0.8, label=\"transit\")\n",
    "ax.set_ylabel(\"de-trended data\")\n",
    "ax.legend()\n",
    "\n",
    "ax = axes[2]\n",
    "ax.plot(x[mask], np.median(trace[\"resid\"], axis=0), \".k\")\n",
    "ax.set_ylabel(\"residuals\")\n",
    "ax.set_xlabel(\"time\")\n",
    "ax.set_xlim(x[mask].min(), x[mask].max());"
   ]
  },
  {
   "cell_type": "code",
   "execution_count": null,
   "metadata": {},
   "outputs": [],
   "source": [
    "vrad_mod = np.median(trace[\"vrad\"], axis=0)\n",
    "bkg_mod = np.median(trace[\"bkg\"], axis=0)\n",
    "\n",
    "plt.plot(rv_x_grid, vrad_mod, color=\"k\", lw=2, alpha=0.5)\n",
    "plt.plot(rv_x_grid, bkg_mod, \"--\", color=\"k\", lw=2, alpha=0.5)\n",
    "plt.plot(rv_x_grid, np.sum(vrad_mod, axis=-1) + bkg_mod, color=\"C1\", lw=2)\n",
    "plt.errorbar(rv_x, rv_y, yerr=rv_yerr, fmt=\".k\")\n",
    "plt.xlabel(\"time\")\n",
    "plt.ylabel(\"radial velocity\")"
   ]
  },
  {
   "cell_type": "code",
   "execution_count": null,
   "metadata": {},
   "outputs": [],
   "source": []
  }
 ],
 "metadata": {
  "kernelspec": {
   "display_name": "Python 3",
   "language": "python",
   "name": "python3"
  },
  "language_info": {
   "codemirror_mode": {
    "name": "ipython",
    "version": 3
   },
   "file_extension": ".py",
   "mimetype": "text/x-python",
   "name": "python",
   "nbconvert_exporter": "python",
   "pygments_lexer": "ipython3",
   "version": "3.6.1"
  }
 },
 "nbformat": 4,
 "nbformat_minor": 2
}
