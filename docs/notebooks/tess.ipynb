{
 "cells": [
  {
   "cell_type": "code",
   "execution_count": 1,
   "metadata": {},
   "outputs": [],
   "source": [
    "%matplotlib inline"
   ]
  },
  {
   "cell_type": "code",
   "execution_count": 2,
   "metadata": {},
   "outputs": [],
   "source": [
    "%run notebook_setup"
   ]
  },
  {
   "cell_type": "markdown",
   "metadata": {},
   "source": [
    "# Fitting TESS data"
   ]
  },
  {
   "cell_type": "markdown",
   "metadata": {},
   "source": [
    "In this tutorial, we will reproduce the fits to the transiting planet in the Pi Mensae system discovered by [Huang et al. (2018)](https://arxiv.org/abs/1809.05967).\n",
    "The data processing and model are similar to the :ref:`together` tutorial, but with a few extra bits like aperture selection and de-trending.\n",
    "\n",
    "To start, we need to download the target pixel file:"
   ]
  },
  {
   "cell_type": "code",
   "execution_count": 3,
   "metadata": {},
   "outputs": [
    {
     "ename": "KeyboardInterrupt",
     "evalue": "",
     "output_type": "error",
     "traceback": [
      "\u001b[0;31m---------------------------------------------------------------------------\u001b[0m",
      "\u001b[0;31mKeyboardInterrupt\u001b[0m                         Traceback (most recent call last)",
      "\u001b[0;32m<ipython-input-3-2fe0dbd6f677>\u001b[0m in \u001b[0;36m<module>\u001b[0;34m\u001b[0m\n\u001b[1;32m      3\u001b[0m \u001b[0;32mimport\u001b[0m \u001b[0mmatplotlib\u001b[0m\u001b[0;34m.\u001b[0m\u001b[0mpyplot\u001b[0m \u001b[0;32mas\u001b[0m \u001b[0mplt\u001b[0m\u001b[0;34m\u001b[0m\u001b[0;34m\u001b[0m\u001b[0m\n\u001b[1;32m      4\u001b[0m \u001b[0;34m\u001b[0m\u001b[0m\n\u001b[0;32m----> 5\u001b[0;31m \u001b[0mtpf_file\u001b[0m \u001b[0;34m=\u001b[0m \u001b[0mlk\u001b[0m\u001b[0;34m.\u001b[0m\u001b[0msearch_targetpixelfile\u001b[0m\u001b[0;34m(\u001b[0m\u001b[0;34m\"TIC 261136679\"\u001b[0m\u001b[0;34m,\u001b[0m \u001b[0msector\u001b[0m\u001b[0;34m=\u001b[0m\u001b[0;36m1\u001b[0m\u001b[0;34m)\u001b[0m\u001b[0;34m.\u001b[0m\u001b[0mdownload\u001b[0m\u001b[0;34m(\u001b[0m\u001b[0;34m)\u001b[0m\u001b[0;34m\u001b[0m\u001b[0;34m\u001b[0m\u001b[0m\n\u001b[0m\u001b[1;32m      6\u001b[0m \u001b[0;32mwith\u001b[0m \u001b[0mtpf_file\u001b[0m\u001b[0;34m.\u001b[0m\u001b[0mhdu\u001b[0m \u001b[0;32mas\u001b[0m \u001b[0mhdu\u001b[0m\u001b[0;34m:\u001b[0m\u001b[0;34m\u001b[0m\u001b[0;34m\u001b[0m\u001b[0m\n\u001b[1;32m      7\u001b[0m     \u001b[0mtpf\u001b[0m \u001b[0;34m=\u001b[0m \u001b[0mhdu\u001b[0m\u001b[0;34m[\u001b[0m\u001b[0;36m1\u001b[0m\u001b[0;34m]\u001b[0m\u001b[0;34m.\u001b[0m\u001b[0mdata\u001b[0m\u001b[0;34m\u001b[0m\u001b[0;34m\u001b[0m\u001b[0m\n",
      "\u001b[0;32m~/research/projects/exoplanet-dev/exoplanet/env/lib/python3.7/site-packages/lightkurve/search.py\u001b[0m in \u001b[0;36msearch_targetpixelfile\u001b[0;34m(target, radius, cadence, mission, quarter, month, campaign, sector, limit)\u001b[0m\n\u001b[1;32m    478\u001b[0m         return _search_products(target, radius=radius, filetype=\"Target Pixel\",\n\u001b[1;32m    479\u001b[0m                                 \u001b[0mcadence\u001b[0m\u001b[0;34m=\u001b[0m\u001b[0mcadence\u001b[0m\u001b[0;34m,\u001b[0m \u001b[0mmission\u001b[0m\u001b[0;34m=\u001b[0m\u001b[0mmission\u001b[0m\u001b[0;34m,\u001b[0m \u001b[0mquarter\u001b[0m\u001b[0;34m=\u001b[0m\u001b[0mquarter\u001b[0m\u001b[0;34m,\u001b[0m\u001b[0;34m\u001b[0m\u001b[0;34m\u001b[0m\u001b[0m\n\u001b[0;32m--> 480\u001b[0;31m                                 month=month, campaign=campaign, sector=sector, limit=limit)\n\u001b[0m\u001b[1;32m    481\u001b[0m     \u001b[0;32mexcept\u001b[0m \u001b[0mSearchError\u001b[0m \u001b[0;32mas\u001b[0m \u001b[0mexc\u001b[0m\u001b[0;34m:\u001b[0m\u001b[0;34m\u001b[0m\u001b[0;34m\u001b[0m\u001b[0m\n\u001b[1;32m    482\u001b[0m         \u001b[0mlog\u001b[0m\u001b[0;34m.\u001b[0m\u001b[0merror\u001b[0m\u001b[0;34m(\u001b[0m\u001b[0mexc\u001b[0m\u001b[0;34m)\u001b[0m\u001b[0;34m\u001b[0m\u001b[0;34m\u001b[0m\u001b[0m\n",
      "\u001b[0;32m~/research/projects/exoplanet-dev/exoplanet/env/lib/python3.7/site-packages/lightkurve/search.py\u001b[0m in \u001b[0;36m_search_products\u001b[0;34m(target, radius, filetype, cadence, mission, quarter, month, campaign, sector, limit)\u001b[0m\n\u001b[1;32m    663\u001b[0m     \u001b[0;32mif\u001b[0m \u001b[0mfiletype\u001b[0m\u001b[0;34m.\u001b[0m\u001b[0mlower\u001b[0m\u001b[0;34m(\u001b[0m\u001b[0;34m)\u001b[0m \u001b[0;34m!=\u001b[0m \u001b[0;34m'ffi'\u001b[0m\u001b[0;34m:\u001b[0m\u001b[0;34m\u001b[0m\u001b[0;34m\u001b[0m\u001b[0m\n\u001b[1;32m    664\u001b[0m         \u001b[0;32mfrom\u001b[0m \u001b[0mastroquery\u001b[0m\u001b[0;34m.\u001b[0m\u001b[0mmast\u001b[0m \u001b[0;32mimport\u001b[0m \u001b[0mObservations\u001b[0m\u001b[0;34m\u001b[0m\u001b[0;34m\u001b[0m\u001b[0m\n\u001b[0;32m--> 665\u001b[0;31m         \u001b[0mproducts\u001b[0m \u001b[0;34m=\u001b[0m \u001b[0mObservations\u001b[0m\u001b[0;34m.\u001b[0m\u001b[0mget_product_list\u001b[0m\u001b[0;34m(\u001b[0m\u001b[0mobservations\u001b[0m\u001b[0;34m)\u001b[0m\u001b[0;34m\u001b[0m\u001b[0;34m\u001b[0m\u001b[0m\n\u001b[0m\u001b[1;32m    666\u001b[0m         result = join(products, observations, keys=\"obs_id\", join_type='left',\n\u001b[1;32m    667\u001b[0m                       uniq_col_name='{col_name}{table_name}', table_names=['', '_2'])\n",
      "\u001b[0;32m~/research/projects/exoplanet-dev/exoplanet/env/lib/python3.7/site-packages/astroquery/utils/class_or_instance.py\u001b[0m in \u001b[0;36mf\u001b[0;34m(*args, **kwds)\u001b[0m\n\u001b[1;32m     23\u001b[0m         \u001b[0;32mdef\u001b[0m \u001b[0mf\u001b[0m\u001b[0;34m(\u001b[0m\u001b[0;34m*\u001b[0m\u001b[0margs\u001b[0m\u001b[0;34m,\u001b[0m \u001b[0;34m**\u001b[0m\u001b[0mkwds\u001b[0m\u001b[0;34m)\u001b[0m\u001b[0;34m:\u001b[0m\u001b[0;34m\u001b[0m\u001b[0;34m\u001b[0m\u001b[0m\n\u001b[1;32m     24\u001b[0m             \u001b[0;32mif\u001b[0m \u001b[0mobj\u001b[0m \u001b[0;32mis\u001b[0m \u001b[0;32mnot\u001b[0m \u001b[0;32mNone\u001b[0m\u001b[0;34m:\u001b[0m\u001b[0;34m\u001b[0m\u001b[0;34m\u001b[0m\u001b[0m\n\u001b[0;32m---> 25\u001b[0;31m                 \u001b[0;32mreturn\u001b[0m \u001b[0mself\u001b[0m\u001b[0;34m.\u001b[0m\u001b[0mfn\u001b[0m\u001b[0;34m(\u001b[0m\u001b[0mobj\u001b[0m\u001b[0;34m,\u001b[0m \u001b[0;34m*\u001b[0m\u001b[0margs\u001b[0m\u001b[0;34m,\u001b[0m \u001b[0;34m**\u001b[0m\u001b[0mkwds\u001b[0m\u001b[0;34m)\u001b[0m\u001b[0;34m\u001b[0m\u001b[0;34m\u001b[0m\u001b[0m\n\u001b[0m\u001b[1;32m     26\u001b[0m             \u001b[0;32melse\u001b[0m\u001b[0;34m:\u001b[0m\u001b[0;34m\u001b[0m\u001b[0;34m\u001b[0m\u001b[0m\n\u001b[1;32m     27\u001b[0m                 \u001b[0;32mreturn\u001b[0m \u001b[0mself\u001b[0m\u001b[0;34m.\u001b[0m\u001b[0mfn\u001b[0m\u001b[0;34m(\u001b[0m\u001b[0mcls\u001b[0m\u001b[0;34m,\u001b[0m \u001b[0;34m*\u001b[0m\u001b[0margs\u001b[0m\u001b[0;34m,\u001b[0m \u001b[0;34m**\u001b[0m\u001b[0mkwds\u001b[0m\u001b[0;34m)\u001b[0m\u001b[0;34m\u001b[0m\u001b[0;34m\u001b[0m\u001b[0m\n",
      "\u001b[0;32m~/research/projects/exoplanet-dev/exoplanet/env/lib/python3.7/site-packages/astroquery/utils/process_asyncs.py\u001b[0m in \u001b[0;36mnewmethod\u001b[0;34m(self, *args, **kwargs)\u001b[0m\n\u001b[1;32m     24\u001b[0m             \u001b[0mverbose\u001b[0m \u001b[0;34m=\u001b[0m \u001b[0mkwargs\u001b[0m\u001b[0;34m.\u001b[0m\u001b[0mpop\u001b[0m\u001b[0;34m(\u001b[0m\u001b[0;34m'verbose'\u001b[0m\u001b[0;34m,\u001b[0m \u001b[0;32mFalse\u001b[0m\u001b[0;34m)\u001b[0m\u001b[0;34m\u001b[0m\u001b[0;34m\u001b[0m\u001b[0m\n\u001b[1;32m     25\u001b[0m \u001b[0;34m\u001b[0m\u001b[0m\n\u001b[0;32m---> 26\u001b[0;31m             \u001b[0mresponse\u001b[0m \u001b[0;34m=\u001b[0m \u001b[0mgetattr\u001b[0m\u001b[0;34m(\u001b[0m\u001b[0mself\u001b[0m\u001b[0;34m,\u001b[0m \u001b[0masync_method_name\u001b[0m\u001b[0;34m)\u001b[0m\u001b[0;34m(\u001b[0m\u001b[0;34m*\u001b[0m\u001b[0margs\u001b[0m\u001b[0;34m,\u001b[0m \u001b[0;34m**\u001b[0m\u001b[0mkwargs\u001b[0m\u001b[0;34m)\u001b[0m\u001b[0;34m\u001b[0m\u001b[0;34m\u001b[0m\u001b[0m\n\u001b[0m\u001b[1;32m     27\u001b[0m             \u001b[0;32mif\u001b[0m \u001b[0mkwargs\u001b[0m\u001b[0;34m.\u001b[0m\u001b[0mget\u001b[0m\u001b[0;34m(\u001b[0m\u001b[0;34m'get_query_payload'\u001b[0m\u001b[0;34m)\u001b[0m \u001b[0;32mor\u001b[0m \u001b[0mkwargs\u001b[0m\u001b[0;34m.\u001b[0m\u001b[0mget\u001b[0m\u001b[0;34m(\u001b[0m\u001b[0;34m'field_help'\u001b[0m\u001b[0;34m)\u001b[0m\u001b[0;34m:\u001b[0m\u001b[0;34m\u001b[0m\u001b[0;34m\u001b[0m\u001b[0m\n\u001b[1;32m     28\u001b[0m                 \u001b[0;32mreturn\u001b[0m \u001b[0mresponse\u001b[0m\u001b[0;34m\u001b[0m\u001b[0;34m\u001b[0m\u001b[0m\n",
      "\u001b[0;32m~/research/projects/exoplanet-dev/exoplanet/env/lib/python3.7/site-packages/astroquery/utils/class_or_instance.py\u001b[0m in \u001b[0;36mf\u001b[0;34m(*args, **kwds)\u001b[0m\n\u001b[1;32m     23\u001b[0m         \u001b[0;32mdef\u001b[0m \u001b[0mf\u001b[0m\u001b[0;34m(\u001b[0m\u001b[0;34m*\u001b[0m\u001b[0margs\u001b[0m\u001b[0;34m,\u001b[0m \u001b[0;34m**\u001b[0m\u001b[0mkwds\u001b[0m\u001b[0;34m)\u001b[0m\u001b[0;34m:\u001b[0m\u001b[0;34m\u001b[0m\u001b[0;34m\u001b[0m\u001b[0m\n\u001b[1;32m     24\u001b[0m             \u001b[0;32mif\u001b[0m \u001b[0mobj\u001b[0m \u001b[0;32mis\u001b[0m \u001b[0;32mnot\u001b[0m \u001b[0;32mNone\u001b[0m\u001b[0;34m:\u001b[0m\u001b[0;34m\u001b[0m\u001b[0;34m\u001b[0m\u001b[0m\n\u001b[0;32m---> 25\u001b[0;31m                 \u001b[0;32mreturn\u001b[0m \u001b[0mself\u001b[0m\u001b[0;34m.\u001b[0m\u001b[0mfn\u001b[0m\u001b[0;34m(\u001b[0m\u001b[0mobj\u001b[0m\u001b[0;34m,\u001b[0m \u001b[0;34m*\u001b[0m\u001b[0margs\u001b[0m\u001b[0;34m,\u001b[0m \u001b[0;34m**\u001b[0m\u001b[0mkwds\u001b[0m\u001b[0;34m)\u001b[0m\u001b[0;34m\u001b[0m\u001b[0;34m\u001b[0m\u001b[0m\n\u001b[0m\u001b[1;32m     26\u001b[0m             \u001b[0;32melse\u001b[0m\u001b[0;34m:\u001b[0m\u001b[0;34m\u001b[0m\u001b[0;34m\u001b[0m\u001b[0m\n\u001b[1;32m     27\u001b[0m                 \u001b[0;32mreturn\u001b[0m \u001b[0mself\u001b[0m\u001b[0;34m.\u001b[0m\u001b[0mfn\u001b[0m\u001b[0;34m(\u001b[0m\u001b[0mcls\u001b[0m\u001b[0;34m,\u001b[0m \u001b[0;34m*\u001b[0m\u001b[0margs\u001b[0m\u001b[0;34m,\u001b[0m \u001b[0;34m**\u001b[0m\u001b[0mkwds\u001b[0m\u001b[0;34m)\u001b[0m\u001b[0;34m\u001b[0m\u001b[0;34m\u001b[0m\u001b[0m\n",
      "\u001b[0;32m~/research/projects/exoplanet-dev/exoplanet/env/lib/python3.7/site-packages/astroquery/mast/core.py\u001b[0m in \u001b[0;36mget_product_list_async\u001b[0;34m(self, observations)\u001b[0m\n\u001b[1;32m   1456\u001b[0m         \u001b[0mparams\u001b[0m \u001b[0;34m=\u001b[0m \u001b[0;34m{\u001b[0m\u001b[0;34m'obsid'\u001b[0m\u001b[0;34m:\u001b[0m \u001b[0;34m','\u001b[0m\u001b[0;34m.\u001b[0m\u001b[0mjoin\u001b[0m\u001b[0;34m(\u001b[0m\u001b[0mobservations\u001b[0m\u001b[0;34m)\u001b[0m\u001b[0;34m}\u001b[0m\u001b[0;34m\u001b[0m\u001b[0;34m\u001b[0m\u001b[0m\n\u001b[1;32m   1457\u001b[0m \u001b[0;34m\u001b[0m\u001b[0m\n\u001b[0;32m-> 1458\u001b[0;31m         \u001b[0;32mreturn\u001b[0m \u001b[0mself\u001b[0m\u001b[0;34m.\u001b[0m\u001b[0mservice_request_async\u001b[0m\u001b[0;34m(\u001b[0m\u001b[0mservice\u001b[0m\u001b[0;34m,\u001b[0m \u001b[0mparams\u001b[0m\u001b[0;34m)\u001b[0m\u001b[0;34m\u001b[0m\u001b[0;34m\u001b[0m\u001b[0m\n\u001b[0m\u001b[1;32m   1459\u001b[0m \u001b[0;34m\u001b[0m\u001b[0m\n\u001b[1;32m   1460\u001b[0m     \u001b[0;32mdef\u001b[0m \u001b[0mfilter_products\u001b[0m\u001b[0;34m(\u001b[0m\u001b[0mself\u001b[0m\u001b[0;34m,\u001b[0m \u001b[0mproducts\u001b[0m\u001b[0;34m,\u001b[0m \u001b[0mmrp_only\u001b[0m\u001b[0;34m=\u001b[0m\u001b[0;32mFalse\u001b[0m\u001b[0;34m,\u001b[0m \u001b[0mextension\u001b[0m\u001b[0;34m=\u001b[0m\u001b[0;32mNone\u001b[0m\u001b[0;34m,\u001b[0m \u001b[0;34m**\u001b[0m\u001b[0mfilters\u001b[0m\u001b[0;34m)\u001b[0m\u001b[0;34m:\u001b[0m\u001b[0;34m\u001b[0m\u001b[0;34m\u001b[0m\u001b[0m\n",
      "\u001b[0;32m~/research/projects/exoplanet-dev/exoplanet/env/lib/python3.7/site-packages/astroquery/utils/class_or_instance.py\u001b[0m in \u001b[0;36mf\u001b[0;34m(*args, **kwds)\u001b[0m\n\u001b[1;32m     23\u001b[0m         \u001b[0;32mdef\u001b[0m \u001b[0mf\u001b[0m\u001b[0;34m(\u001b[0m\u001b[0;34m*\u001b[0m\u001b[0margs\u001b[0m\u001b[0;34m,\u001b[0m \u001b[0;34m**\u001b[0m\u001b[0mkwds\u001b[0m\u001b[0;34m)\u001b[0m\u001b[0;34m:\u001b[0m\u001b[0;34m\u001b[0m\u001b[0;34m\u001b[0m\u001b[0m\n\u001b[1;32m     24\u001b[0m             \u001b[0;32mif\u001b[0m \u001b[0mobj\u001b[0m \u001b[0;32mis\u001b[0m \u001b[0;32mnot\u001b[0m \u001b[0;32mNone\u001b[0m\u001b[0;34m:\u001b[0m\u001b[0;34m\u001b[0m\u001b[0;34m\u001b[0m\u001b[0m\n\u001b[0;32m---> 25\u001b[0;31m                 \u001b[0;32mreturn\u001b[0m \u001b[0mself\u001b[0m\u001b[0;34m.\u001b[0m\u001b[0mfn\u001b[0m\u001b[0;34m(\u001b[0m\u001b[0mobj\u001b[0m\u001b[0;34m,\u001b[0m \u001b[0;34m*\u001b[0m\u001b[0margs\u001b[0m\u001b[0;34m,\u001b[0m \u001b[0;34m**\u001b[0m\u001b[0mkwds\u001b[0m\u001b[0;34m)\u001b[0m\u001b[0;34m\u001b[0m\u001b[0;34m\u001b[0m\u001b[0m\n\u001b[0m\u001b[1;32m     26\u001b[0m             \u001b[0;32melse\u001b[0m\u001b[0;34m:\u001b[0m\u001b[0;34m\u001b[0m\u001b[0;34m\u001b[0m\u001b[0m\n\u001b[1;32m     27\u001b[0m                 \u001b[0;32mreturn\u001b[0m \u001b[0mself\u001b[0m\u001b[0;34m.\u001b[0m\u001b[0mfn\u001b[0m\u001b[0;34m(\u001b[0m\u001b[0mcls\u001b[0m\u001b[0;34m,\u001b[0m \u001b[0;34m*\u001b[0m\u001b[0margs\u001b[0m\u001b[0;34m,\u001b[0m \u001b[0;34m**\u001b[0m\u001b[0mkwds\u001b[0m\u001b[0;34m)\u001b[0m\u001b[0;34m\u001b[0m\u001b[0;34m\u001b[0m\u001b[0m\n",
      "\u001b[0;32m~/research/projects/exoplanet-dev/exoplanet/env/lib/python3.7/site-packages/astroquery/mast/core.py\u001b[0m in \u001b[0;36mservice_request_async\u001b[0;34m(self, service, params, pagesize, page, **kwargs)\u001b[0m\n\u001b[1;32m    685\u001b[0m         \u001b[0mreq_string\u001b[0m \u001b[0;34m=\u001b[0m \u001b[0m_prepare_service_request_string\u001b[0m\u001b[0;34m(\u001b[0m\u001b[0mmashup_request\u001b[0m\u001b[0;34m)\u001b[0m\u001b[0;34m\u001b[0m\u001b[0;34m\u001b[0m\u001b[0m\n\u001b[1;32m    686\u001b[0m         response = self._request(\"POST\", self._MAST_REQUEST_URL, data=req_string, headers=headers,\n\u001b[0;32m--> 687\u001b[0;31m                                  retrieve_all=retrieve_all)\n\u001b[0m\u001b[1;32m    688\u001b[0m \u001b[0;34m\u001b[0m\u001b[0m\n\u001b[1;32m    689\u001b[0m         \u001b[0;32mreturn\u001b[0m \u001b[0mresponse\u001b[0m\u001b[0;34m\u001b[0m\u001b[0;34m\u001b[0m\u001b[0m\n",
      "\u001b[0;32m~/research/projects/exoplanet-dev/exoplanet/env/lib/python3.7/site-packages/astroquery/mast/core.py\u001b[0m in \u001b[0;36m_request\u001b[0;34m(self, method, url, params, data, headers, files, stream, auth, retrieve_all)\u001b[0m\n\u001b[1;32m    488\u001b[0m                 response = super(MastClass, self)._request(method, url, params=params, data=data,\n\u001b[1;32m    489\u001b[0m                                                            \u001b[0mheaders\u001b[0m\u001b[0;34m=\u001b[0m\u001b[0mheaders\u001b[0m\u001b[0;34m,\u001b[0m \u001b[0mfiles\u001b[0m\u001b[0;34m=\u001b[0m\u001b[0mfiles\u001b[0m\u001b[0;34m,\u001b[0m \u001b[0mcache\u001b[0m\u001b[0;34m=\u001b[0m\u001b[0;32mFalse\u001b[0m\u001b[0;34m,\u001b[0m\u001b[0;34m\u001b[0m\u001b[0;34m\u001b[0m\u001b[0m\n\u001b[0;32m--> 490\u001b[0;31m                                                            stream=stream, auth=auth)\n\u001b[0m\u001b[1;32m    491\u001b[0m \u001b[0;34m\u001b[0m\u001b[0m\n\u001b[1;32m    492\u001b[0m                 \u001b[0;32mif\u001b[0m \u001b[0;34m(\u001b[0m\u001b[0mtime\u001b[0m\u001b[0;34m.\u001b[0m\u001b[0mtime\u001b[0m\u001b[0;34m(\u001b[0m\u001b[0;34m)\u001b[0m \u001b[0;34m-\u001b[0m \u001b[0mstart_time\u001b[0m\u001b[0;34m)\u001b[0m \u001b[0;34m>=\u001b[0m \u001b[0mself\u001b[0m\u001b[0;34m.\u001b[0m\u001b[0mTIMEOUT\u001b[0m\u001b[0;34m:\u001b[0m\u001b[0;34m\u001b[0m\u001b[0;34m\u001b[0m\u001b[0m\n",
      "\u001b[0;32m~/research/projects/exoplanet-dev/exoplanet/env/lib/python3.7/site-packages/astroquery/query.py\u001b[0m in \u001b[0;36m_request\u001b[0;34m(self, method, url, params, data, headers, files, save, savedir, timeout, cache, stream, auth, continuation, verify)\u001b[0m\n\u001b[1;32m    236\u001b[0m                 \u001b[0;32mwith\u001b[0m \u001b[0msuspend_cache\u001b[0m\u001b[0;34m(\u001b[0m\u001b[0mself\u001b[0m\u001b[0;34m)\u001b[0m\u001b[0;34m:\u001b[0m\u001b[0;34m\u001b[0m\u001b[0;34m\u001b[0m\u001b[0m\n\u001b[1;32m    237\u001b[0m                     response = query.request(self._session, stream=stream,\n\u001b[0;32m--> 238\u001b[0;31m                                              auth=auth, verify=verify)\n\u001b[0m\u001b[1;32m    239\u001b[0m             \u001b[0;32melse\u001b[0m\u001b[0;34m:\u001b[0m\u001b[0;34m\u001b[0m\u001b[0;34m\u001b[0m\u001b[0m\n\u001b[1;32m    240\u001b[0m                 \u001b[0mresponse\u001b[0m \u001b[0;34m=\u001b[0m \u001b[0mquery\u001b[0m\u001b[0;34m.\u001b[0m\u001b[0mfrom_cache\u001b[0m\u001b[0;34m(\u001b[0m\u001b[0mself\u001b[0m\u001b[0;34m.\u001b[0m\u001b[0mcache_location\u001b[0m\u001b[0;34m)\u001b[0m\u001b[0;34m\u001b[0m\u001b[0;34m\u001b[0m\u001b[0m\n",
      "\u001b[0;32m~/research/projects/exoplanet-dev/exoplanet/env/lib/python3.7/site-packages/astroquery/query.py\u001b[0m in \u001b[0;36mrequest\u001b[0;34m(self, session, cache_location, stream, auth, verify)\u001b[0m\n\u001b[1;32m     64\u001b[0m                                \u001b[0mdata\u001b[0m\u001b[0;34m=\u001b[0m\u001b[0mself\u001b[0m\u001b[0;34m.\u001b[0m\u001b[0mdata\u001b[0m\u001b[0;34m,\u001b[0m \u001b[0mheaders\u001b[0m\u001b[0;34m=\u001b[0m\u001b[0mself\u001b[0m\u001b[0;34m.\u001b[0m\u001b[0mheaders\u001b[0m\u001b[0;34m,\u001b[0m\u001b[0;34m\u001b[0m\u001b[0;34m\u001b[0m\u001b[0m\n\u001b[1;32m     65\u001b[0m                                \u001b[0mfiles\u001b[0m\u001b[0;34m=\u001b[0m\u001b[0mself\u001b[0m\u001b[0;34m.\u001b[0m\u001b[0mfiles\u001b[0m\u001b[0;34m,\u001b[0m \u001b[0mtimeout\u001b[0m\u001b[0;34m=\u001b[0m\u001b[0mself\u001b[0m\u001b[0;34m.\u001b[0m\u001b[0mtimeout\u001b[0m\u001b[0;34m,\u001b[0m\u001b[0;34m\u001b[0m\u001b[0;34m\u001b[0m\u001b[0m\n\u001b[0;32m---> 66\u001b[0;31m                                stream=stream, auth=auth, verify=verify)\n\u001b[0m\u001b[1;32m     67\u001b[0m \u001b[0;34m\u001b[0m\u001b[0m\n\u001b[1;32m     68\u001b[0m     \u001b[0;32mdef\u001b[0m \u001b[0mhash\u001b[0m\u001b[0;34m(\u001b[0m\u001b[0mself\u001b[0m\u001b[0;34m)\u001b[0m\u001b[0;34m:\u001b[0m\u001b[0;34m\u001b[0m\u001b[0;34m\u001b[0m\u001b[0m\n",
      "\u001b[0;32m~/research/projects/exoplanet-dev/exoplanet/env/lib/python3.7/site-packages/requests/sessions.py\u001b[0m in \u001b[0;36mrequest\u001b[0;34m(self, method, url, params, data, headers, cookies, files, auth, timeout, allow_redirects, proxies, hooks, stream, verify, cert, json)\u001b[0m\n\u001b[1;32m    531\u001b[0m         }\n\u001b[1;32m    532\u001b[0m         \u001b[0msend_kwargs\u001b[0m\u001b[0;34m.\u001b[0m\u001b[0mupdate\u001b[0m\u001b[0;34m(\u001b[0m\u001b[0msettings\u001b[0m\u001b[0;34m)\u001b[0m\u001b[0;34m\u001b[0m\u001b[0;34m\u001b[0m\u001b[0m\n\u001b[0;32m--> 533\u001b[0;31m         \u001b[0mresp\u001b[0m \u001b[0;34m=\u001b[0m \u001b[0mself\u001b[0m\u001b[0;34m.\u001b[0m\u001b[0msend\u001b[0m\u001b[0;34m(\u001b[0m\u001b[0mprep\u001b[0m\u001b[0;34m,\u001b[0m \u001b[0;34m**\u001b[0m\u001b[0msend_kwargs\u001b[0m\u001b[0;34m)\u001b[0m\u001b[0;34m\u001b[0m\u001b[0;34m\u001b[0m\u001b[0m\n\u001b[0m\u001b[1;32m    534\u001b[0m \u001b[0;34m\u001b[0m\u001b[0m\n\u001b[1;32m    535\u001b[0m         \u001b[0;32mreturn\u001b[0m \u001b[0mresp\u001b[0m\u001b[0;34m\u001b[0m\u001b[0;34m\u001b[0m\u001b[0m\n",
      "\u001b[0;32m~/research/projects/exoplanet-dev/exoplanet/env/lib/python3.7/site-packages/requests/sessions.py\u001b[0m in \u001b[0;36msend\u001b[0;34m(self, request, **kwargs)\u001b[0m\n\u001b[1;32m    644\u001b[0m \u001b[0;34m\u001b[0m\u001b[0m\n\u001b[1;32m    645\u001b[0m         \u001b[0;31m# Send the request\u001b[0m\u001b[0;34m\u001b[0m\u001b[0;34m\u001b[0m\u001b[0;34m\u001b[0m\u001b[0m\n\u001b[0;32m--> 646\u001b[0;31m         \u001b[0mr\u001b[0m \u001b[0;34m=\u001b[0m \u001b[0madapter\u001b[0m\u001b[0;34m.\u001b[0m\u001b[0msend\u001b[0m\u001b[0;34m(\u001b[0m\u001b[0mrequest\u001b[0m\u001b[0;34m,\u001b[0m \u001b[0;34m**\u001b[0m\u001b[0mkwargs\u001b[0m\u001b[0;34m)\u001b[0m\u001b[0;34m\u001b[0m\u001b[0;34m\u001b[0m\u001b[0m\n\u001b[0m\u001b[1;32m    647\u001b[0m \u001b[0;34m\u001b[0m\u001b[0m\n\u001b[1;32m    648\u001b[0m         \u001b[0;31m# Total elapsed time of the request (approximately)\u001b[0m\u001b[0;34m\u001b[0m\u001b[0;34m\u001b[0m\u001b[0;34m\u001b[0m\u001b[0m\n",
      "\u001b[0;32m~/research/projects/exoplanet-dev/exoplanet/env/lib/python3.7/site-packages/requests/adapters.py\u001b[0m in \u001b[0;36msend\u001b[0;34m(self, request, stream, timeout, verify, cert, proxies)\u001b[0m\n\u001b[1;32m    447\u001b[0m                     \u001b[0mdecode_content\u001b[0m\u001b[0;34m=\u001b[0m\u001b[0;32mFalse\u001b[0m\u001b[0;34m,\u001b[0m\u001b[0;34m\u001b[0m\u001b[0;34m\u001b[0m\u001b[0m\n\u001b[1;32m    448\u001b[0m                     \u001b[0mretries\u001b[0m\u001b[0;34m=\u001b[0m\u001b[0mself\u001b[0m\u001b[0;34m.\u001b[0m\u001b[0mmax_retries\u001b[0m\u001b[0;34m,\u001b[0m\u001b[0;34m\u001b[0m\u001b[0;34m\u001b[0m\u001b[0m\n\u001b[0;32m--> 449\u001b[0;31m                     \u001b[0mtimeout\u001b[0m\u001b[0;34m=\u001b[0m\u001b[0mtimeout\u001b[0m\u001b[0;34m\u001b[0m\u001b[0;34m\u001b[0m\u001b[0m\n\u001b[0m\u001b[1;32m    450\u001b[0m                 )\n\u001b[1;32m    451\u001b[0m \u001b[0;34m\u001b[0m\u001b[0m\n",
      "\u001b[0;32m~/research/projects/exoplanet-dev/exoplanet/env/lib/python3.7/site-packages/urllib3/connectionpool.py\u001b[0m in \u001b[0;36murlopen\u001b[0;34m(self, method, url, body, headers, retries, redirect, assert_same_host, timeout, pool_timeout, release_conn, chunked, body_pos, **response_kw)\u001b[0m\n\u001b[1;32m    670\u001b[0m                 \u001b[0mbody\u001b[0m\u001b[0;34m=\u001b[0m\u001b[0mbody\u001b[0m\u001b[0;34m,\u001b[0m\u001b[0;34m\u001b[0m\u001b[0;34m\u001b[0m\u001b[0m\n\u001b[1;32m    671\u001b[0m                 \u001b[0mheaders\u001b[0m\u001b[0;34m=\u001b[0m\u001b[0mheaders\u001b[0m\u001b[0;34m,\u001b[0m\u001b[0;34m\u001b[0m\u001b[0;34m\u001b[0m\u001b[0m\n\u001b[0;32m--> 672\u001b[0;31m                 \u001b[0mchunked\u001b[0m\u001b[0;34m=\u001b[0m\u001b[0mchunked\u001b[0m\u001b[0;34m,\u001b[0m\u001b[0;34m\u001b[0m\u001b[0;34m\u001b[0m\u001b[0m\n\u001b[0m\u001b[1;32m    673\u001b[0m             )\n\u001b[1;32m    674\u001b[0m \u001b[0;34m\u001b[0m\u001b[0m\n",
      "\u001b[0;32m~/research/projects/exoplanet-dev/exoplanet/env/lib/python3.7/site-packages/urllib3/connectionpool.py\u001b[0m in \u001b[0;36m_make_request\u001b[0;34m(self, conn, method, url, timeout, chunked, **httplib_request_kw)\u001b[0m\n\u001b[1;32m    419\u001b[0m                     \u001b[0;31m# Python 3 (including for exceptions like SystemExit).\u001b[0m\u001b[0;34m\u001b[0m\u001b[0;34m\u001b[0m\u001b[0;34m\u001b[0m\u001b[0m\n\u001b[1;32m    420\u001b[0m                     \u001b[0;31m# Otherwise it looks like a bug in the code.\u001b[0m\u001b[0;34m\u001b[0m\u001b[0;34m\u001b[0m\u001b[0;34m\u001b[0m\u001b[0m\n\u001b[0;32m--> 421\u001b[0;31m                     \u001b[0msix\u001b[0m\u001b[0;34m.\u001b[0m\u001b[0mraise_from\u001b[0m\u001b[0;34m(\u001b[0m\u001b[0me\u001b[0m\u001b[0;34m,\u001b[0m \u001b[0;32mNone\u001b[0m\u001b[0;34m)\u001b[0m\u001b[0;34m\u001b[0m\u001b[0;34m\u001b[0m\u001b[0m\n\u001b[0m\u001b[1;32m    422\u001b[0m         \u001b[0;32mexcept\u001b[0m \u001b[0;34m(\u001b[0m\u001b[0mSocketTimeout\u001b[0m\u001b[0;34m,\u001b[0m \u001b[0mBaseSSLError\u001b[0m\u001b[0;34m,\u001b[0m \u001b[0mSocketError\u001b[0m\u001b[0;34m)\u001b[0m \u001b[0;32mas\u001b[0m \u001b[0me\u001b[0m\u001b[0;34m:\u001b[0m\u001b[0;34m\u001b[0m\u001b[0;34m\u001b[0m\u001b[0m\n\u001b[1;32m    423\u001b[0m             \u001b[0mself\u001b[0m\u001b[0;34m.\u001b[0m\u001b[0m_raise_timeout\u001b[0m\u001b[0;34m(\u001b[0m\u001b[0merr\u001b[0m\u001b[0;34m=\u001b[0m\u001b[0me\u001b[0m\u001b[0;34m,\u001b[0m \u001b[0murl\u001b[0m\u001b[0;34m=\u001b[0m\u001b[0murl\u001b[0m\u001b[0;34m,\u001b[0m \u001b[0mtimeout_value\u001b[0m\u001b[0;34m=\u001b[0m\u001b[0mread_timeout\u001b[0m\u001b[0;34m)\u001b[0m\u001b[0;34m\u001b[0m\u001b[0;34m\u001b[0m\u001b[0m\n",
      "\u001b[0;32m~/research/projects/exoplanet-dev/exoplanet/env/lib/python3.7/site-packages/urllib3/packages/six.py\u001b[0m in \u001b[0;36mraise_from\u001b[0;34m(value, from_value)\u001b[0m\n",
      "\u001b[0;32m~/research/projects/exoplanet-dev/exoplanet/env/lib/python3.7/site-packages/urllib3/connectionpool.py\u001b[0m in \u001b[0;36m_make_request\u001b[0;34m(self, conn, method, url, timeout, chunked, **httplib_request_kw)\u001b[0m\n\u001b[1;32m    414\u001b[0m                 \u001b[0;31m# Python 3\u001b[0m\u001b[0;34m\u001b[0m\u001b[0;34m\u001b[0m\u001b[0;34m\u001b[0m\u001b[0m\n\u001b[1;32m    415\u001b[0m                 \u001b[0;32mtry\u001b[0m\u001b[0;34m:\u001b[0m\u001b[0;34m\u001b[0m\u001b[0;34m\u001b[0m\u001b[0m\n\u001b[0;32m--> 416\u001b[0;31m                     \u001b[0mhttplib_response\u001b[0m \u001b[0;34m=\u001b[0m \u001b[0mconn\u001b[0m\u001b[0;34m.\u001b[0m\u001b[0mgetresponse\u001b[0m\u001b[0;34m(\u001b[0m\u001b[0;34m)\u001b[0m\u001b[0;34m\u001b[0m\u001b[0;34m\u001b[0m\u001b[0m\n\u001b[0m\u001b[1;32m    417\u001b[0m                 \u001b[0;32mexcept\u001b[0m \u001b[0mBaseException\u001b[0m \u001b[0;32mas\u001b[0m \u001b[0me\u001b[0m\u001b[0;34m:\u001b[0m\u001b[0;34m\u001b[0m\u001b[0;34m\u001b[0m\u001b[0m\n\u001b[1;32m    418\u001b[0m                     \u001b[0;31m# Remove the TypeError from the exception chain in\u001b[0m\u001b[0;34m\u001b[0m\u001b[0;34m\u001b[0m\u001b[0;34m\u001b[0m\u001b[0m\n",
      "\u001b[0;32m~/research/projects/exoplanet-dev/exoplanet/env/lib/python3.7/http/client.py\u001b[0m in \u001b[0;36mgetresponse\u001b[0;34m(self)\u001b[0m\n\u001b[1;32m   1342\u001b[0m         \u001b[0;32mtry\u001b[0m\u001b[0;34m:\u001b[0m\u001b[0;34m\u001b[0m\u001b[0;34m\u001b[0m\u001b[0m\n\u001b[1;32m   1343\u001b[0m             \u001b[0;32mtry\u001b[0m\u001b[0;34m:\u001b[0m\u001b[0;34m\u001b[0m\u001b[0;34m\u001b[0m\u001b[0m\n\u001b[0;32m-> 1344\u001b[0;31m                 \u001b[0mresponse\u001b[0m\u001b[0;34m.\u001b[0m\u001b[0mbegin\u001b[0m\u001b[0;34m(\u001b[0m\u001b[0;34m)\u001b[0m\u001b[0;34m\u001b[0m\u001b[0;34m\u001b[0m\u001b[0m\n\u001b[0m\u001b[1;32m   1345\u001b[0m             \u001b[0;32mexcept\u001b[0m \u001b[0mConnectionError\u001b[0m\u001b[0;34m:\u001b[0m\u001b[0;34m\u001b[0m\u001b[0;34m\u001b[0m\u001b[0m\n\u001b[1;32m   1346\u001b[0m                 \u001b[0mself\u001b[0m\u001b[0;34m.\u001b[0m\u001b[0mclose\u001b[0m\u001b[0;34m(\u001b[0m\u001b[0;34m)\u001b[0m\u001b[0;34m\u001b[0m\u001b[0;34m\u001b[0m\u001b[0m\n",
      "\u001b[0;32m~/research/projects/exoplanet-dev/exoplanet/env/lib/python3.7/http/client.py\u001b[0m in \u001b[0;36mbegin\u001b[0;34m(self)\u001b[0m\n\u001b[1;32m    304\u001b[0m         \u001b[0;31m# read until we get a non-100 response\u001b[0m\u001b[0;34m\u001b[0m\u001b[0;34m\u001b[0m\u001b[0;34m\u001b[0m\u001b[0m\n\u001b[1;32m    305\u001b[0m         \u001b[0;32mwhile\u001b[0m \u001b[0;32mTrue\u001b[0m\u001b[0;34m:\u001b[0m\u001b[0;34m\u001b[0m\u001b[0;34m\u001b[0m\u001b[0m\n\u001b[0;32m--> 306\u001b[0;31m             \u001b[0mversion\u001b[0m\u001b[0;34m,\u001b[0m \u001b[0mstatus\u001b[0m\u001b[0;34m,\u001b[0m \u001b[0mreason\u001b[0m \u001b[0;34m=\u001b[0m \u001b[0mself\u001b[0m\u001b[0;34m.\u001b[0m\u001b[0m_read_status\u001b[0m\u001b[0;34m(\u001b[0m\u001b[0;34m)\u001b[0m\u001b[0;34m\u001b[0m\u001b[0;34m\u001b[0m\u001b[0m\n\u001b[0m\u001b[1;32m    307\u001b[0m             \u001b[0;32mif\u001b[0m \u001b[0mstatus\u001b[0m \u001b[0;34m!=\u001b[0m \u001b[0mCONTINUE\u001b[0m\u001b[0;34m:\u001b[0m\u001b[0;34m\u001b[0m\u001b[0;34m\u001b[0m\u001b[0m\n\u001b[1;32m    308\u001b[0m                 \u001b[0;32mbreak\u001b[0m\u001b[0;34m\u001b[0m\u001b[0;34m\u001b[0m\u001b[0m\n",
      "\u001b[0;32m~/research/projects/exoplanet-dev/exoplanet/env/lib/python3.7/http/client.py\u001b[0m in \u001b[0;36m_read_status\u001b[0;34m(self)\u001b[0m\n\u001b[1;32m    265\u001b[0m \u001b[0;34m\u001b[0m\u001b[0m\n\u001b[1;32m    266\u001b[0m     \u001b[0;32mdef\u001b[0m \u001b[0m_read_status\u001b[0m\u001b[0;34m(\u001b[0m\u001b[0mself\u001b[0m\u001b[0;34m)\u001b[0m\u001b[0;34m:\u001b[0m\u001b[0;34m\u001b[0m\u001b[0;34m\u001b[0m\u001b[0m\n\u001b[0;32m--> 267\u001b[0;31m         \u001b[0mline\u001b[0m \u001b[0;34m=\u001b[0m \u001b[0mstr\u001b[0m\u001b[0;34m(\u001b[0m\u001b[0mself\u001b[0m\u001b[0;34m.\u001b[0m\u001b[0mfp\u001b[0m\u001b[0;34m.\u001b[0m\u001b[0mreadline\u001b[0m\u001b[0;34m(\u001b[0m\u001b[0m_MAXLINE\u001b[0m \u001b[0;34m+\u001b[0m \u001b[0;36m1\u001b[0m\u001b[0;34m)\u001b[0m\u001b[0;34m,\u001b[0m \u001b[0;34m\"iso-8859-1\"\u001b[0m\u001b[0;34m)\u001b[0m\u001b[0;34m\u001b[0m\u001b[0;34m\u001b[0m\u001b[0m\n\u001b[0m\u001b[1;32m    268\u001b[0m         \u001b[0;32mif\u001b[0m \u001b[0mlen\u001b[0m\u001b[0;34m(\u001b[0m\u001b[0mline\u001b[0m\u001b[0;34m)\u001b[0m \u001b[0;34m>\u001b[0m \u001b[0m_MAXLINE\u001b[0m\u001b[0;34m:\u001b[0m\u001b[0;34m\u001b[0m\u001b[0;34m\u001b[0m\u001b[0m\n\u001b[1;32m    269\u001b[0m             \u001b[0;32mraise\u001b[0m \u001b[0mLineTooLong\u001b[0m\u001b[0;34m(\u001b[0m\u001b[0;34m\"status line\"\u001b[0m\u001b[0;34m)\u001b[0m\u001b[0;34m\u001b[0m\u001b[0;34m\u001b[0m\u001b[0m\n",
      "\u001b[0;32m~/research/projects/exoplanet-dev/exoplanet/env/lib/python3.7/socket.py\u001b[0m in \u001b[0;36mreadinto\u001b[0;34m(self, b)\u001b[0m\n\u001b[1;32m    587\u001b[0m         \u001b[0;32mwhile\u001b[0m \u001b[0;32mTrue\u001b[0m\u001b[0;34m:\u001b[0m\u001b[0;34m\u001b[0m\u001b[0;34m\u001b[0m\u001b[0m\n\u001b[1;32m    588\u001b[0m             \u001b[0;32mtry\u001b[0m\u001b[0;34m:\u001b[0m\u001b[0;34m\u001b[0m\u001b[0;34m\u001b[0m\u001b[0m\n\u001b[0;32m--> 589\u001b[0;31m                 \u001b[0;32mreturn\u001b[0m \u001b[0mself\u001b[0m\u001b[0;34m.\u001b[0m\u001b[0m_sock\u001b[0m\u001b[0;34m.\u001b[0m\u001b[0mrecv_into\u001b[0m\u001b[0;34m(\u001b[0m\u001b[0mb\u001b[0m\u001b[0;34m)\u001b[0m\u001b[0;34m\u001b[0m\u001b[0;34m\u001b[0m\u001b[0m\n\u001b[0m\u001b[1;32m    590\u001b[0m             \u001b[0;32mexcept\u001b[0m \u001b[0mtimeout\u001b[0m\u001b[0;34m:\u001b[0m\u001b[0;34m\u001b[0m\u001b[0;34m\u001b[0m\u001b[0m\n\u001b[1;32m    591\u001b[0m                 \u001b[0mself\u001b[0m\u001b[0;34m.\u001b[0m\u001b[0m_timeout_occurred\u001b[0m \u001b[0;34m=\u001b[0m \u001b[0;32mTrue\u001b[0m\u001b[0;34m\u001b[0m\u001b[0;34m\u001b[0m\u001b[0m\n",
      "\u001b[0;32m~/research/projects/exoplanet-dev/exoplanet/env/lib/python3.7/ssl.py\u001b[0m in \u001b[0;36mrecv_into\u001b[0;34m(self, buffer, nbytes, flags)\u001b[0m\n\u001b[1;32m   1069\u001b[0m                   \u001b[0;34m\"non-zero flags not allowed in calls to recv_into() on %s\"\u001b[0m \u001b[0;34m%\u001b[0m\u001b[0;34m\u001b[0m\u001b[0;34m\u001b[0m\u001b[0m\n\u001b[1;32m   1070\u001b[0m                   self.__class__)\n\u001b[0;32m-> 1071\u001b[0;31m             \u001b[0;32mreturn\u001b[0m \u001b[0mself\u001b[0m\u001b[0;34m.\u001b[0m\u001b[0mread\u001b[0m\u001b[0;34m(\u001b[0m\u001b[0mnbytes\u001b[0m\u001b[0;34m,\u001b[0m \u001b[0mbuffer\u001b[0m\u001b[0;34m)\u001b[0m\u001b[0;34m\u001b[0m\u001b[0;34m\u001b[0m\u001b[0m\n\u001b[0m\u001b[1;32m   1072\u001b[0m         \u001b[0;32melse\u001b[0m\u001b[0;34m:\u001b[0m\u001b[0;34m\u001b[0m\u001b[0;34m\u001b[0m\u001b[0m\n\u001b[1;32m   1073\u001b[0m             \u001b[0;32mreturn\u001b[0m \u001b[0msuper\u001b[0m\u001b[0;34m(\u001b[0m\u001b[0;34m)\u001b[0m\u001b[0;34m.\u001b[0m\u001b[0mrecv_into\u001b[0m\u001b[0;34m(\u001b[0m\u001b[0mbuffer\u001b[0m\u001b[0;34m,\u001b[0m \u001b[0mnbytes\u001b[0m\u001b[0;34m,\u001b[0m \u001b[0mflags\u001b[0m\u001b[0;34m)\u001b[0m\u001b[0;34m\u001b[0m\u001b[0;34m\u001b[0m\u001b[0m\n",
      "\u001b[0;32m~/research/projects/exoplanet-dev/exoplanet/env/lib/python3.7/ssl.py\u001b[0m in \u001b[0;36mread\u001b[0;34m(self, len, buffer)\u001b[0m\n\u001b[1;32m    927\u001b[0m         \u001b[0;32mtry\u001b[0m\u001b[0;34m:\u001b[0m\u001b[0;34m\u001b[0m\u001b[0;34m\u001b[0m\u001b[0m\n\u001b[1;32m    928\u001b[0m             \u001b[0;32mif\u001b[0m \u001b[0mbuffer\u001b[0m \u001b[0;32mis\u001b[0m \u001b[0;32mnot\u001b[0m \u001b[0;32mNone\u001b[0m\u001b[0;34m:\u001b[0m\u001b[0;34m\u001b[0m\u001b[0;34m\u001b[0m\u001b[0m\n\u001b[0;32m--> 929\u001b[0;31m                 \u001b[0;32mreturn\u001b[0m \u001b[0mself\u001b[0m\u001b[0;34m.\u001b[0m\u001b[0m_sslobj\u001b[0m\u001b[0;34m.\u001b[0m\u001b[0mread\u001b[0m\u001b[0;34m(\u001b[0m\u001b[0mlen\u001b[0m\u001b[0;34m,\u001b[0m \u001b[0mbuffer\u001b[0m\u001b[0;34m)\u001b[0m\u001b[0;34m\u001b[0m\u001b[0;34m\u001b[0m\u001b[0m\n\u001b[0m\u001b[1;32m    930\u001b[0m             \u001b[0;32melse\u001b[0m\u001b[0;34m:\u001b[0m\u001b[0;34m\u001b[0m\u001b[0;34m\u001b[0m\u001b[0m\n\u001b[1;32m    931\u001b[0m                 \u001b[0;32mreturn\u001b[0m \u001b[0mself\u001b[0m\u001b[0;34m.\u001b[0m\u001b[0m_sslobj\u001b[0m\u001b[0;34m.\u001b[0m\u001b[0mread\u001b[0m\u001b[0;34m(\u001b[0m\u001b[0mlen\u001b[0m\u001b[0;34m)\u001b[0m\u001b[0;34m\u001b[0m\u001b[0;34m\u001b[0m\u001b[0m\n",
      "\u001b[0;31mKeyboardInterrupt\u001b[0m: "
     ]
    }
   ],
   "source": [
    "import numpy as np\n",
    "import lightkurve as lk\n",
    "import matplotlib.pyplot as plt\n",
    "\n",
    "tpf_file = lk.search_targetpixelfile(\"TIC 261136679\", sector=1).download()\n",
    "with tpf_file.hdu as hdu:\n",
    "    tpf = hdu[1].data\n",
    "    tpf_hdr = hdu[1].header\n",
    "\n",
    "texp = tpf_hdr[\"FRAMETIM\"] * tpf_hdr[\"NUM_FRM\"]\n",
    "texp /= 60.0 * 60.0 * 24.0\n",
    "time = tpf[\"TIME\"]\n",
    "flux = tpf[\"FLUX\"]\n",
    "m = np.any(np.isfinite(flux), axis=(1, 2)) & (tpf[\"QUALITY\"] == 0)\n",
    "ref_time = 0.5 * (np.min(time[m]) + np.max(time[m]))\n",
    "time = np.ascontiguousarray(time[m] - ref_time, dtype=np.float64)\n",
    "flux = np.ascontiguousarray(flux[m], dtype=np.float64)\n",
    "\n",
    "mean_img = np.median(flux, axis=0)\n",
    "plt.imshow(mean_img.T, cmap=\"gray_r\")\n",
    "plt.title(\"TESS image of Pi Men\")\n",
    "plt.xticks([])\n",
    "plt.yticks([]);"
   ]
  },
  {
   "cell_type": "markdown",
   "metadata": {},
   "source": [
    "## Aperture selection\n",
    "\n",
    "Next, we'll select an aperture using a hacky method that tries to minimizes the windowed scatter in the lightcurve (something like the CDPP)."
   ]
  },
  {
   "cell_type": "code",
   "execution_count": null,
   "metadata": {},
   "outputs": [],
   "source": [
    "from scipy.signal import savgol_filter\n",
    "\n",
    "# Sort the pixels by median brightness\n",
    "order = np.argsort(mean_img.flatten())[::-1]\n",
    "\n",
    "# A function to estimate the windowed scatter in a lightcurve\n",
    "def estimate_scatter_with_mask(mask):\n",
    "    f = np.sum(flux[:, mask], axis=-1)\n",
    "    smooth = savgol_filter(f, 1001, polyorder=5)\n",
    "    return 1e6 * np.sqrt(np.median((f / smooth - 1) ** 2))\n",
    "\n",
    "\n",
    "# Loop over pixels ordered by brightness and add them one-by-one\n",
    "# to the aperture\n",
    "masks, scatters = [], []\n",
    "for i in range(10, 100):\n",
    "    msk = np.zeros_like(mean_img, dtype=bool)\n",
    "    msk[np.unravel_index(order[:i], mean_img.shape)] = True\n",
    "    scatter = estimate_scatter_with_mask(msk)\n",
    "    masks.append(msk)\n",
    "    scatters.append(scatter)\n",
    "\n",
    "# Choose the aperture that minimizes the scatter\n",
    "pix_mask = masks[np.argmin(scatters)]\n",
    "\n",
    "# Plot the selected aperture\n",
    "plt.imshow(mean_img.T, cmap=\"gray_r\")\n",
    "plt.imshow(pix_mask.T, cmap=\"Reds\", alpha=0.3)\n",
    "plt.title(\"selected aperture\")\n",
    "plt.xticks([])\n",
    "plt.yticks([]);"
   ]
  },
  {
   "cell_type": "markdown",
   "metadata": {},
   "source": [
    "This aperture produces the following light curve:"
   ]
  },
  {
   "cell_type": "code",
   "execution_count": null,
   "metadata": {},
   "outputs": [],
   "source": [
    "plt.figure(figsize=(10, 5))\n",
    "sap_flux = np.sum(flux[:, pix_mask], axis=-1)\n",
    "sap_flux = (sap_flux / np.median(sap_flux) - 1) * 1e3\n",
    "plt.plot(time, sap_flux, \"k\")\n",
    "plt.xlabel(\"time [days]\")\n",
    "plt.ylabel(\"relative flux [ppt]\")\n",
    "plt.title(\"raw light curve\")\n",
    "plt.xlim(time.min(), time.max());"
   ]
  },
  {
   "cell_type": "markdown",
   "metadata": {},
   "source": [
    "## De-trending\n",
    "\n",
    "This doesn't look terrible, but we're still going to want to de-trend it a little bit.\n",
    "We'll use \"pixel-level deconvolution\" (PLD) to de-trend following the method used by [Everest](https://github.com/rodluger/everest).\n",
    "Specifically, we'll use first order PLD plus the top few PCA components of the second order PLD basis."
   ]
  },
  {
   "cell_type": "code",
   "execution_count": null,
   "metadata": {},
   "outputs": [],
   "source": [
    "# Build the first order PLD basis\n",
    "X_pld = np.reshape(flux[:, pix_mask], (len(flux), -1))\n",
    "X_pld = X_pld / np.sum(flux[:, pix_mask], axis=-1)[:, None]\n",
    "\n",
    "# Build the second order PLD basis and run PCA to reduce the number of dimensions\n",
    "X2_pld = np.reshape(X_pld[:, None, :] * X_pld[:, :, None], (len(flux), -1))\n",
    "U, _, _ = np.linalg.svd(X2_pld, full_matrices=False)\n",
    "X2_pld = U[:, : X_pld.shape[1]]\n",
    "\n",
    "# Construct the design matrix and fit for the PLD model\n",
    "X_pld = np.concatenate((np.ones((len(flux), 1)), X_pld, X2_pld), axis=-1)\n",
    "XTX = np.dot(X_pld.T, X_pld)\n",
    "w_pld = np.linalg.solve(XTX, np.dot(X_pld.T, sap_flux))\n",
    "pld_flux = np.dot(X_pld, w_pld)\n",
    "\n",
    "# Plot the de-trended light curve\n",
    "plt.figure(figsize=(10, 5))\n",
    "plt.plot(time, sap_flux - pld_flux, \"k\")\n",
    "plt.xlabel(\"time [days]\")\n",
    "plt.ylabel(\"de-trended flux [ppt]\")\n",
    "plt.title(\"initial de-trended light curve\")\n",
    "plt.xlim(time.min(), time.max());"
   ]
  },
  {
   "cell_type": "markdown",
   "metadata": {},
   "source": [
    "That looks better.\n",
    "\n",
    "## Transit search\n",
    "\n",
    "Now, let's use [the box least squares periodogram from AstroPy](http://docs.astropy.org/en/latest/timeseries/bls.html)\n",
    "(Note: you'll need AstroPy v3.1 or more recent to use this feature) to estimate the period, phase, and depth of the transit."
   ]
  },
  {
   "cell_type": "code",
   "execution_count": null,
   "metadata": {},
   "outputs": [],
   "source": [
    "from astropy.timeseries import BoxLeastSquares\n",
    "\n",
    "period_grid = np.exp(np.linspace(np.log(1), np.log(15), 50000))\n",
    "\n",
    "bls = BoxLeastSquares(time, sap_flux - pld_flux)\n",
    "bls_power = bls.power(period_grid, 0.1, oversample=20)\n",
    "\n",
    "# Save the highest peak as the planet candidate\n",
    "index = np.argmax(bls_power.power)\n",
    "bls_period = bls_power.period[index]\n",
    "bls_t0 = bls_power.transit_time[index]\n",
    "bls_depth = bls_power.depth[index]\n",
    "transit_mask = bls.transit_mask(time, bls_period, 0.2, bls_t0)\n",
    "\n",
    "fig, axes = plt.subplots(2, 1, figsize=(10, 10))\n",
    "\n",
    "# Plot the periodogram\n",
    "ax = axes[0]\n",
    "ax.axvline(np.log10(bls_period), color=\"C1\", lw=5, alpha=0.8)\n",
    "ax.plot(np.log10(bls_power.period), bls_power.power, \"k\")\n",
    "ax.annotate(\n",
    "    \"period = {0:.4f} d\".format(bls_period),\n",
    "    (0, 1),\n",
    "    xycoords=\"axes fraction\",\n",
    "    xytext=(5, -5),\n",
    "    textcoords=\"offset points\",\n",
    "    va=\"top\",\n",
    "    ha=\"left\",\n",
    "    fontsize=12,\n",
    ")\n",
    "ax.set_ylabel(\"bls power\")\n",
    "ax.set_yticks([])\n",
    "ax.set_xlim(np.log10(period_grid.min()), np.log10(period_grid.max()))\n",
    "ax.set_xlabel(\"log10(period)\")\n",
    "\n",
    "# Plot the folded transit\n",
    "ax = axes[1]\n",
    "x_fold = (time - bls_t0 + 0.5 * bls_period) % bls_period - 0.5 * bls_period\n",
    "m = np.abs(x_fold) < 0.4\n",
    "ax.plot(x_fold[m], sap_flux[m] - pld_flux[m], \".k\")\n",
    "\n",
    "# Overplot the phase binned light curve\n",
    "bins = np.linspace(-0.41, 0.41, 32)\n",
    "denom, _ = np.histogram(x_fold, bins)\n",
    "num, _ = np.histogram(x_fold, bins, weights=sap_flux - pld_flux)\n",
    "denom[num == 0] = 1.0\n",
    "ax.plot(0.5 * (bins[1:] + bins[:-1]), num / denom, color=\"C1\")\n",
    "\n",
    "ax.set_xlim(-0.3, 0.3)\n",
    "ax.set_ylabel(\"de-trended flux [ppt]\")\n",
    "ax.set_xlabel(\"time since transit\");"
   ]
  },
  {
   "cell_type": "markdown",
   "metadata": {},
   "source": [
    "Now that we know where the transits are, it's generally good practice to de-trend the data one more time with the transits masked so that the de-trending doesn't overfit the transits.\n",
    "Let's do that."
   ]
  },
  {
   "cell_type": "code",
   "execution_count": null,
   "metadata": {},
   "outputs": [],
   "source": [
    "m = ~transit_mask\n",
    "XTX = np.dot(X_pld[m].T, X_pld[m])\n",
    "w_pld = np.linalg.solve(XTX, np.dot(X_pld[m].T, sap_flux[m]))\n",
    "pld_flux = np.dot(X_pld, w_pld)\n",
    "\n",
    "x = np.ascontiguousarray(time, dtype=np.float64)\n",
    "y = np.ascontiguousarray(sap_flux - pld_flux, dtype=np.float64)\n",
    "\n",
    "plt.figure(figsize=(10, 5))\n",
    "plt.plot(time, y, \"k\")\n",
    "plt.xlabel(\"time [days]\")\n",
    "plt.ylabel(\"de-trended flux [ppt]\")\n",
    "plt.title(\"final de-trended light curve\")\n",
    "plt.xlim(time.min(), time.max());"
   ]
  },
  {
   "cell_type": "markdown",
   "metadata": {},
   "source": [
    "To confirm that we didn't overfit the transit, we can look at the folded light curve for the PLD model near trasit.\n",
    "This shouldn't have any residual transit signal, and that looks correct here:"
   ]
  },
  {
   "cell_type": "code",
   "execution_count": null,
   "metadata": {},
   "outputs": [],
   "source": [
    "plt.figure(figsize=(10, 5))\n",
    "\n",
    "x_fold = (x - bls_t0 + 0.5 * bls_period) % bls_period - 0.5 * bls_period\n",
    "m = np.abs(x_fold) < 0.3\n",
    "plt.plot(x_fold[m], pld_flux[m], \".k\", ms=4)\n",
    "\n",
    "bins = np.linspace(-0.5, 0.5, 60)\n",
    "denom, _ = np.histogram(x_fold, bins)\n",
    "num, _ = np.histogram(x_fold, bins, weights=pld_flux)\n",
    "denom[num == 0] = 1.0\n",
    "plt.plot(0.5 * (bins[1:] + bins[:-1]), num / denom, color=\"C1\", lw=2)\n",
    "plt.xlim(-0.2, 0.2)\n",
    "plt.xlabel(\"time since transit\")\n",
    "plt.ylabel(\"PLD model flux\");"
   ]
  },
  {
   "cell_type": "markdown",
   "metadata": {},
   "source": [
    "## The transit model in PyMC3\n",
    "\n",
    "The transit model, initialization, and sampling are all nearly the same as the one in :ref:`together`."
   ]
  },
  {
   "cell_type": "code",
   "execution_count": null,
   "metadata": {},
   "outputs": [],
   "source": [
    "import exoplanet as xo\n",
    "import pymc3 as pm\n",
    "import theano.tensor as tt\n",
    "\n",
    "\n",
    "def build_model(mask=None, start=None):\n",
    "    if mask is None:\n",
    "        mask = np.ones(len(x), dtype=bool)\n",
    "    with pm.Model() as model:\n",
    "\n",
    "        # Parameters for the stellar properties\n",
    "        mean = pm.Normal(\"mean\", mu=0.0, sd=10.0)\n",
    "        u_star = xo.distributions.QuadLimbDark(\"u_star\")\n",
    "\n",
    "        # Stellar parameters from Huang et al (2018)\n",
    "        M_star_huang = 1.094, 0.039\n",
    "        R_star_huang = 1.10, 0.023\n",
    "        BoundedNormal = pm.Bound(pm.Normal, lower=0, upper=3)\n",
    "        m_star = BoundedNormal(\"m_star\", mu=M_star_huang[0], sd=M_star_huang[1])\n",
    "        r_star = BoundedNormal(\"r_star\", mu=R_star_huang[0], sd=R_star_huang[1])\n",
    "\n",
    "        # Orbital parameters for the planets\n",
    "        logP = pm.Normal(\"logP\", mu=np.log(bls_period), sd=1)\n",
    "        t0 = pm.Normal(\"t0\", mu=bls_t0, sd=1)\n",
    "        logr = pm.Normal(\n",
    "            \"logr\",\n",
    "            sd=1.0,\n",
    "            mu=0.5 * np.log(1e-3 * np.array(bls_depth)) + np.log(R_star_huang[0]),\n",
    "        )\n",
    "        r_pl = pm.Deterministic(\"r_pl\", tt.exp(logr))\n",
    "        ror = pm.Deterministic(\"ror\", r_pl / r_star)\n",
    "        b = xo.distributions.ImpactParameter(\"b\", ror=ror)\n",
    "\n",
    "        # This is the eccentricity prior from Kipping (2013):\n",
    "        # https://arxiv.org/abs/1306.4982\n",
    "        ecc = xo.distributions.eccentricity.kipping13(\"ecc\", testval=0.1)\n",
    "        omega = xo.distributions.Angle(\"omega\")\n",
    "\n",
    "        # Transit jitter & GP parameters\n",
    "        logs2 = pm.Normal(\"logs2\", mu=np.log(np.var(y[mask])), sd=10)\n",
    "        logw0 = pm.Normal(\"logw0\", mu=0, sd=10)\n",
    "        logSw4 = pm.Normal(\"logSw4\", mu=np.log(np.var(y[mask])), sd=10)\n",
    "\n",
    "        # Tracking planet parameters\n",
    "        period = pm.Deterministic(\"period\", tt.exp(logP))\n",
    "\n",
    "        # Orbit model\n",
    "        orbit = xo.orbits.KeplerianOrbit(\n",
    "            r_star=r_star,\n",
    "            m_star=m_star,\n",
    "            period=period,\n",
    "            t0=t0,\n",
    "            b=b,\n",
    "            ecc=ecc,\n",
    "            omega=omega,\n",
    "        )\n",
    "\n",
    "        def mean_model(t):\n",
    "            # Compute the model light curve using starry\n",
    "            light_curves = pm.Deterministic(\n",
    "                \"light_curves\",\n",
    "                xo.LimbDarkLightCurve(u_star).get_light_curve(\n",
    "                    orbit=orbit, r=r_pl, t=t, texp=texp\n",
    "                )\n",
    "                * 1e3,\n",
    "            )\n",
    "            return pm.math.sum(light_curves, axis=-1) + mean\n",
    "\n",
    "        # GP model for the light curve\n",
    "        kernel = xo.gp.terms.SHOTerm(log_Sw4=logSw4, log_w0=logw0, Q=1 / np.sqrt(2))\n",
    "        gp = xo.gp.GP(\n",
    "            kernel, x[mask], tt.exp(logs2) + tt.zeros(mask.sum()), mean=mean_model\n",
    "        )\n",
    "        gp.marginal(\"gp\", observed=y[mask])\n",
    "        pm.Deterministic(\"gp_pred\", gp.predict())\n",
    "\n",
    "        # Fit for the maximum a posteriori parameters, I've found that I can get\n",
    "        # a better solution by trying different combinations of parameters in turn\n",
    "        if start is None:\n",
    "            start = model.test_point\n",
    "        map_soln = xo.optimize(start=start, vars=[logs2, logSw4, logw0])\n",
    "        map_soln = xo.optimize(start=map_soln, vars=[logr])\n",
    "        map_soln = xo.optimize(start=map_soln, vars=[b])\n",
    "        map_soln = xo.optimize(start=map_soln, vars=[logP, t0])\n",
    "        map_soln = xo.optimize(start=map_soln, vars=[u_star])\n",
    "        map_soln = xo.optimize(start=map_soln, vars=[logr])\n",
    "        map_soln = xo.optimize(start=map_soln, vars=[b])\n",
    "        map_soln = xo.optimize(start=map_soln, vars=[ecc, omega])\n",
    "        map_soln = xo.optimize(start=map_soln, vars=[mean])\n",
    "        map_soln = xo.optimize(start=map_soln, vars=[logs2, logSw4, logw0])\n",
    "        map_soln = xo.optimize(start=map_soln)\n",
    "\n",
    "    return model, map_soln\n",
    "\n",
    "\n",
    "model0, map_soln0 = build_model()"
   ]
  },
  {
   "cell_type": "markdown",
   "metadata": {},
   "source": [
    "Here's how we plot the initial light curve model:"
   ]
  },
  {
   "cell_type": "code",
   "execution_count": null,
   "metadata": {},
   "outputs": [],
   "source": [
    "def plot_light_curve(soln, mask=None):\n",
    "    if mask is None:\n",
    "        mask = np.ones(len(x), dtype=bool)\n",
    "\n",
    "    fig, axes = plt.subplots(3, 1, figsize=(10, 7), sharex=True)\n",
    "\n",
    "    ax = axes[0]\n",
    "    ax.plot(x[mask], y[mask], \"k\", label=\"data\")\n",
    "    gp_mod = soln[\"gp_pred\"] + soln[\"mean\"]\n",
    "    ax.plot(x[mask], gp_mod, color=\"C2\", label=\"gp model\")\n",
    "    ax.legend(fontsize=10)\n",
    "    ax.set_ylabel(\"relative flux [ppt]\")\n",
    "\n",
    "    ax = axes[1]\n",
    "    ax.plot(x[mask], y[mask] - gp_mod, \"k\", label=\"de-trended data\")\n",
    "    for i, l in enumerate(\"b\"):\n",
    "        mod = soln[\"light_curves\"][:, i]\n",
    "        ax.plot(x[mask], mod, label=\"planet {0}\".format(l))\n",
    "    ax.legend(fontsize=10, loc=3)\n",
    "    ax.set_ylabel(\"de-trended flux [ppt]\")\n",
    "\n",
    "    ax = axes[2]\n",
    "    mod = gp_mod + np.sum(soln[\"light_curves\"], axis=-1)\n",
    "    ax.plot(x[mask], y[mask] - mod, \"k\")\n",
    "    ax.axhline(0, color=\"#aaaaaa\", lw=1)\n",
    "    ax.set_ylabel(\"residuals [ppt]\")\n",
    "    ax.set_xlim(x[mask].min(), x[mask].max())\n",
    "    ax.set_xlabel(\"time [days]\")\n",
    "\n",
    "    return fig\n",
    "\n",
    "\n",
    "plot_light_curve(map_soln0);"
   ]
  },
  {
   "cell_type": "markdown",
   "metadata": {},
   "source": [
    "As in the :ref:`together` tutorial, we can do some sigma clipping to remove significant outliers."
   ]
  },
  {
   "cell_type": "code",
   "execution_count": null,
   "metadata": {},
   "outputs": [],
   "source": [
    "mod = (\n",
    "    map_soln0[\"gp_pred\"]\n",
    "    + map_soln0[\"mean\"]\n",
    "    + np.sum(map_soln0[\"light_curves\"], axis=-1)\n",
    ")\n",
    "resid = y - mod\n",
    "rms = np.sqrt(np.median(resid ** 2))\n",
    "mask = np.abs(resid) < 5 * rms\n",
    "\n",
    "plt.figure(figsize=(10, 5))\n",
    "plt.plot(x, resid, \"k\", label=\"data\")\n",
    "plt.plot(x[~mask], resid[~mask], \"xr\", label=\"outliers\")\n",
    "plt.axhline(0, color=\"#aaaaaa\", lw=1)\n",
    "plt.ylabel(\"residuals [ppt]\")\n",
    "plt.xlabel(\"time [days]\")\n",
    "plt.legend(fontsize=12, loc=3)\n",
    "plt.xlim(x.min(), x.max());"
   ]
  },
  {
   "cell_type": "markdown",
   "metadata": {},
   "source": [
    "And then we re-build the model using the data without outliers."
   ]
  },
  {
   "cell_type": "code",
   "execution_count": null,
   "metadata": {},
   "outputs": [],
   "source": [
    "model, map_soln = build_model(mask, map_soln0)\n",
    "plot_light_curve(map_soln, mask);"
   ]
  },
  {
   "cell_type": "markdown",
   "metadata": {},
   "source": [
    "Now that we have the model, we can sample:"
   ]
  },
  {
   "cell_type": "code",
   "execution_count": null,
   "metadata": {},
   "outputs": [],
   "source": [
    "np.random.seed(42)\n",
    "with model:\n",
    "    trace = pm.sample(\n",
    "        tune=5000,\n",
    "        draws=3000,\n",
    "        start=map_soln,\n",
    "        chains=4,\n",
    "        step=xo.get_dense_nuts_step(target_accept=0.9),\n",
    "    )"
   ]
  },
  {
   "cell_type": "code",
   "execution_count": null,
   "metadata": {},
   "outputs": [],
   "source": [
    "pm.summary(\n",
    "    trace,\n",
    "    varnames=[\n",
    "        \"logw0\",\n",
    "        \"logSw4\",\n",
    "        \"logs2\",\n",
    "        \"omega\",\n",
    "        \"ecc\",\n",
    "        \"r_pl\",\n",
    "        \"b\",\n",
    "        \"t0\",\n",
    "        \"logP\",\n",
    "        \"r_star\",\n",
    "        \"m_star\",\n",
    "        \"u_star\",\n",
    "        \"mean\",\n",
    "    ],\n",
    ")"
   ]
  },
  {
   "cell_type": "markdown",
   "metadata": {},
   "source": [
    "## Results\n",
    "\n",
    "After sampling, we can make the usual plots.\n",
    "First, let's look at the folded light curve plot:"
   ]
  },
  {
   "cell_type": "code",
   "execution_count": null,
   "metadata": {},
   "outputs": [],
   "source": [
    "# Compute the GP prediction\n",
    "gp_mod = np.median(trace[\"gp_pred\"] + trace[\"mean\"][:, None], axis=0)\n",
    "\n",
    "# Get the posterior median orbital parameters\n",
    "p = np.median(trace[\"period\"])\n",
    "t0 = np.median(trace[\"t0\"])\n",
    "\n",
    "# Plot the folded data\n",
    "x_fold = (x[mask] - t0 + 0.5 * p) % p - 0.5 * p\n",
    "plt.plot(x_fold, y[mask] - gp_mod, \".k\", label=\"data\", zorder=-1000)\n",
    "\n",
    "# Overplot the phase binned light curve\n",
    "bins = np.linspace(-0.41, 0.41, 50)\n",
    "denom, _ = np.histogram(x_fold, bins)\n",
    "num, _ = np.histogram(x_fold, bins, weights=y[mask])\n",
    "denom[num == 0] = 1.0\n",
    "plt.plot(0.5 * (bins[1:] + bins[:-1]), num / denom, \"o\", color=\"C2\", label=\"binned\")\n",
    "\n",
    "# Plot the folded model\n",
    "inds = np.argsort(x_fold)\n",
    "inds = inds[np.abs(x_fold)[inds] < 0.3]\n",
    "pred = trace[\"light_curves\"][:, inds, 0]\n",
    "pred = np.percentile(pred, [16, 50, 84], axis=0)\n",
    "plt.plot(x_fold[inds], pred[1], color=\"C1\", label=\"model\")\n",
    "art = plt.fill_between(\n",
    "    x_fold[inds], pred[0], pred[2], color=\"C1\", alpha=0.5, zorder=1000\n",
    ")\n",
    "art.set_edgecolor(\"none\")\n",
    "\n",
    "# Annotate the plot with the planet's period\n",
    "txt = \"period = {0:.5f} +/- {1:.5f} d\".format(\n",
    "    np.mean(trace[\"period\"]), np.std(trace[\"period\"])\n",
    ")\n",
    "plt.annotate(\n",
    "    txt,\n",
    "    (0, 0),\n",
    "    xycoords=\"axes fraction\",\n",
    "    xytext=(5, 5),\n",
    "    textcoords=\"offset points\",\n",
    "    ha=\"left\",\n",
    "    va=\"bottom\",\n",
    "    fontsize=12,\n",
    ")\n",
    "\n",
    "plt.legend(fontsize=10, loc=4)\n",
    "plt.xlim(-0.5 * p, 0.5 * p)\n",
    "plt.xlabel(\"time since transit [days]\")\n",
    "plt.ylabel(\"de-trended flux\")\n",
    "plt.xlim(-0.15, 0.15);"
   ]
  },
  {
   "cell_type": "markdown",
   "metadata": {},
   "source": [
    "And a corner plot of some of the key parameters:"
   ]
  },
  {
   "cell_type": "code",
   "execution_count": null,
   "metadata": {},
   "outputs": [],
   "source": [
    "import corner\n",
    "import astropy.units as u\n",
    "\n",
    "varnames = [\"period\", \"b\", \"ecc\", \"r_pl\"]\n",
    "samples = pm.trace_to_dataframe(trace, varnames=varnames)\n",
    "\n",
    "# Convert the radius to Earth radii\n",
    "samples[\"r_pl\"] = (np.array(samples[\"r_pl\"]) * u.R_sun).to(u.R_earth).value\n",
    "\n",
    "corner.corner(\n",
    "    samples[[\"period\", \"r_pl\", \"b\", \"ecc\"]],\n",
    "    labels=[\"period [days]\", \"radius [Earth radii]\", \"impact param\", \"eccentricity\"],\n",
    ");"
   ]
  },
  {
   "cell_type": "markdown",
   "metadata": {},
   "source": [
    "These all seem consistent with the previously published values and an earlier inconsistency between this radius measurement and the literature has been resolved by fixing a bug in *exoplanet*."
   ]
  },
  {
   "cell_type": "markdown",
   "metadata": {},
   "source": [
    "## Citations\n",
    "\n",
    "As described in the :ref:`citation` tutorial, we can use :func:`exoplanet.citations.get_citations_for_model` to construct an acknowledgement and BibTeX listing that includes the relevant citations for this model."
   ]
  },
  {
   "cell_type": "code",
   "execution_count": null,
   "metadata": {},
   "outputs": [],
   "source": [
    "with model:\n",
    "    txt, bib = xo.citations.get_citations_for_model()\n",
    "print(txt)"
   ]
  },
  {
   "cell_type": "code",
   "execution_count": null,
   "metadata": {},
   "outputs": [],
   "source": [
    "print(\"\\n\".join(bib.splitlines()[:10]) + \"\\n...\")"
   ]
  },
  {
   "cell_type": "code",
   "execution_count": null,
   "metadata": {},
   "outputs": [],
   "source": []
  }
 ],
 "metadata": {
  "kernelspec": {
   "display_name": "Python 3",
   "language": "python",
   "name": "python3"
  },
  "language_info": {
   "codemirror_mode": {
    "name": "ipython",
    "version": 3
   },
   "file_extension": ".py",
   "mimetype": "text/x-python",
   "name": "python",
   "nbconvert_exporter": "python",
   "pygments_lexer": "ipython3",
   "version": "3.7.6"
  }
 },
 "nbformat": 4,
 "nbformat_minor": 4
}
